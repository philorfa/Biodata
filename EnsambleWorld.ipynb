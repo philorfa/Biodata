{
  "nbformat": 4,
  "nbformat_minor": 0,
  "metadata": {
    "colab": {
      "name": "EnsambleWorld.ipynb",
      "provenance": [],
      "mount_file_id": "16ianE_-_E6jU3olcjxm2-EKXDKzykyJH",
      "authorship_tag": "ABX9TyOJfQQjGZuue0JqSKbcNvpp",
      "include_colab_link": true
    },
    "kernelspec": {
      "name": "python3",
      "display_name": "Python 3"
    },
    "language_info": {
      "name": "python"
    }
  },
  "cells": [
    {
      "cell_type": "markdown",
      "metadata": {
        "id": "view-in-github",
        "colab_type": "text"
      },
      "source": [
        "<a href=\"https://colab.research.google.com/github/philorfa/Biodata/blob/main/EnsambleWorld.ipynb\" target=\"_parent\"><img src=\"https://colab.research.google.com/assets/colab-badge.svg\" alt=\"Open In Colab\"/></a>"
      ]
    },
    {
      "cell_type": "code",
      "metadata": {
        "colab": {
          "base_uri": "https://localhost:8080/"
        },
        "cellView": "form",
        "id": "InS1R60drghb",
        "outputId": "0325846a-af4a-4505-c85e-889fe2f2e9ac"
      },
      "source": [
        "#@title\n",
        "from __future__ import absolute_import, division, print_function, unicode_literals # legacy compatibility\n",
        "\n",
        "import tensorflow as tf\n",
        "from tensorflow.keras import datasets, layers, models\n",
        "from tensorflow.keras.preprocessing.image import ImageDataGenerator\n",
        "from tensorflow.keras.utils import to_categorical\n",
        "from time import time\n",
        "import numpy as np\n",
        "import pandas as pd\n",
        "import matplotlib.pyplot as plt\n",
        "from scipy import ndarray\n",
        "import skimage as sk\n",
        "from skimage import transform\n",
        "from skimage import util\n",
        "#@title\n",
        "!pip install --upgrade pyswarm\n",
        "!pip install pymc3\n",
        "!pip install --upgrade pactools\n",
        "\n",
        "from sklearn.model_selection import train_test_split\n",
        "from pyswarm import pso\n",
        "from os import path\n",
        "import os\n",
        "import requests\n",
        "os.environ['TF_CPP_MIN_LOG_LEVEL'] = '2' \n",
        "import numpy\n",
        "import sys\n",
        "import numpy as np\n",
        "from numpy import loadtxt\n",
        "from numpy import array\n",
        "from numpy.random import choice\n",
        "import pandas as pd\n",
        "import time\n",
        "import random\n",
        "import statistics\n",
        "import pandas\n",
        "import math\n",
        "import csv\n",
        "import random\n",
        "import logging\n",
        "from pymc3 import *\n",
        "import pymc3 as pm\n",
        "from functools import reduce\n",
        "from operator import add\n",
        "from tqdm import tqdm\n",
        "import geopy.distance\n",
        "from scipy import stats\n",
        "import matplotlib.pyplot as plt\n",
        "import seaborn as sns\n",
        "from theano import shared\n",
        "from sklearn import preprocessing\n",
        "print('Running on PyMC3 v{}'.format(pm.__version__))\n",
        "from sklearn.preprocessing import MinMaxScaler\n",
        "from sklearn.metrics import mean_squared_error\n",
        "from sklearn.metrics import mean_absolute_error\n",
        "from sklearn.model_selection import train_test_split\n",
        "from tensorflow.keras.models import Sequential\n",
        "from tensorflow.keras.layers import Dense\n",
        "from tensorflow.keras.layers import Dropout\n",
        "from tensorflow.keras.layers import LSTM\n",
        "from tensorflow.keras.layers import Conv1D\n",
        "from tensorflow.keras.layers import Flatten\n",
        "from tensorflow.keras.layers import Activation\n",
        "from tensorflow.keras.callbacks import EarlyStopping\n",
        "from tensorflow.keras import layers\n",
        "from tensorflow import keras\n",
        "import tensorflow\n",
        "from tensorflow.keras import datasets, layers, models\n",
        "from keras.utils import np_utils\n",
        "\n",
        "import numpy as np\n",
        "import matplotlib.pyplot as plt\n",
        "import pandas as pd\n",
        "from matplotlib.ticker import MaxNLocator\n",
        "\n",
        "#TESNORFOW\n",
        "import tensorflow as tf\n",
        "from tensorflow import keras\n",
        "from keras import datasets, layers, models\n",
        "#KERAS LIBRARIES\n",
        "from keras.preprocessing.text import Tokenizer\n",
        "from keras.models import Sequential,Model\n",
        "from keras.layers import Dense, Dropout , Flatten,BatchNormalization,Conv2D,MaxPooling2D, Activation,LSTM,Embedding,Input,GlobalAveragePooling2D\n",
        "from keras.regularizers import l1, l2, l1_l2\n",
        "from keras.callbacks import EarlyStopping, ModelCheckpoint,ReduceLROnPlateau\n",
        "from keras import backend \n",
        "from keras.utils import np_utils\n",
        "\n",
        "from numpy import savetxt\n",
        "\n",
        "from sklearn.metrics import classification_report\n",
        "from sklearn.metrics import confusion_matrix\n",
        "\n",
        "from numpy import argmax"
      ],
      "execution_count": 25,
      "outputs": [
        {
          "output_type": "stream",
          "text": [
            "Requirement already up-to-date: pyswarm in /usr/local/lib/python3.7/dist-packages (0.6)\n",
            "Requirement already satisfied, skipping upgrade: numpy in /usr/local/lib/python3.7/dist-packages (from pyswarm) (1.19.5)\n",
            "Requirement already satisfied: pymc3 in /usr/local/lib/python3.7/dist-packages (3.11.2)\n",
            "Requirement already satisfied: arviz>=0.11.0 in /usr/local/lib/python3.7/dist-packages (from pymc3) (0.11.2)\n",
            "Requirement already satisfied: scipy>=1.2.0 in /usr/local/lib/python3.7/dist-packages (from pymc3) (1.4.1)\n",
            "Requirement already satisfied: numpy>=1.15.0 in /usr/local/lib/python3.7/dist-packages (from pymc3) (1.19.5)\n",
            "Requirement already satisfied: patsy>=0.5.1 in /usr/local/lib/python3.7/dist-packages (from pymc3) (0.5.1)\n",
            "Requirement already satisfied: theano-pymc==1.1.2 in /usr/local/lib/python3.7/dist-packages (from pymc3) (1.1.2)\n",
            "Requirement already satisfied: typing-extensions>=3.7.4 in /usr/local/lib/python3.7/dist-packages (from pymc3) (3.7.4.3)\n",
            "Requirement already satisfied: fastprogress>=0.2.0 in /usr/local/lib/python3.7/dist-packages (from pymc3) (1.0.0)\n",
            "Requirement already satisfied: pandas>=0.24.0 in /usr/local/lib/python3.7/dist-packages (from pymc3) (1.1.5)\n",
            "Requirement already satisfied: dill in /usr/local/lib/python3.7/dist-packages (from pymc3) (0.3.4)\n",
            "Requirement already satisfied: cachetools>=4.2.1 in /usr/local/lib/python3.7/dist-packages (from pymc3) (4.2.2)\n",
            "Requirement already satisfied: semver in /usr/local/lib/python3.7/dist-packages (from pymc3) (2.13.0)\n",
            "Requirement already satisfied: matplotlib>=3.0 in /usr/local/lib/python3.7/dist-packages (from arviz>=0.11.0->pymc3) (3.2.2)\n",
            "Requirement already satisfied: packaging in /usr/local/lib/python3.7/dist-packages (from arviz>=0.11.0->pymc3) (20.9)\n",
            "Requirement already satisfied: xarray>=0.16.1 in /usr/local/lib/python3.7/dist-packages (from arviz>=0.11.0->pymc3) (0.18.2)\n",
            "Requirement already satisfied: netcdf4 in /usr/local/lib/python3.7/dist-packages (from arviz>=0.11.0->pymc3) (1.5.6)\n",
            "Requirement already satisfied: setuptools>=38.4 in /usr/local/lib/python3.7/dist-packages (from arviz>=0.11.0->pymc3) (57.0.0)\n",
            "Requirement already satisfied: six in /usr/local/lib/python3.7/dist-packages (from patsy>=0.5.1->pymc3) (1.15.0)\n",
            "Requirement already satisfied: filelock in /usr/local/lib/python3.7/dist-packages (from theano-pymc==1.1.2->pymc3) (3.0.12)\n",
            "Requirement already satisfied: python-dateutil>=2.7.3 in /usr/local/lib/python3.7/dist-packages (from pandas>=0.24.0->pymc3) (2.8.1)\n",
            "Requirement already satisfied: pytz>=2017.2 in /usr/local/lib/python3.7/dist-packages (from pandas>=0.24.0->pymc3) (2018.9)\n",
            "Requirement already satisfied: cycler>=0.10 in /usr/local/lib/python3.7/dist-packages (from matplotlib>=3.0->arviz>=0.11.0->pymc3) (0.10.0)\n",
            "Requirement already satisfied: kiwisolver>=1.0.1 in /usr/local/lib/python3.7/dist-packages (from matplotlib>=3.0->arviz>=0.11.0->pymc3) (1.3.1)\n",
            "Requirement already satisfied: pyparsing!=2.0.4,!=2.1.2,!=2.1.6,>=2.0.1 in /usr/local/lib/python3.7/dist-packages (from matplotlib>=3.0->arviz>=0.11.0->pymc3) (2.4.7)\n",
            "Requirement already satisfied: cftime in /usr/local/lib/python3.7/dist-packages (from netcdf4->arviz>=0.11.0->pymc3) (1.5.0)\n",
            "Requirement already up-to-date: pactools in /usr/local/lib/python3.7/dist-packages (0.3.1)\n",
            "Requirement already satisfied, skipping upgrade: h5py in /usr/local/lib/python3.7/dist-packages (from pactools) (3.1.0)\n",
            "Requirement already satisfied, skipping upgrade: scipy in /usr/local/lib/python3.7/dist-packages (from pactools) (1.4.1)\n",
            "Requirement already satisfied, skipping upgrade: numpy in /usr/local/lib/python3.7/dist-packages (from pactools) (1.19.5)\n",
            "Requirement already satisfied, skipping upgrade: scikit-learn in /usr/local/lib/python3.7/dist-packages (from pactools) (0.22.2.post1)\n",
            "Requirement already satisfied, skipping upgrade: mne in /usr/local/lib/python3.7/dist-packages (from pactools) (0.23.0)\n",
            "Requirement already satisfied, skipping upgrade: matplotlib in /usr/local/lib/python3.7/dist-packages (from pactools) (3.2.2)\n",
            "Requirement already satisfied, skipping upgrade: cached-property; python_version < \"3.8\" in /usr/local/lib/python3.7/dist-packages (from h5py->pactools) (1.5.2)\n",
            "Requirement already satisfied, skipping upgrade: joblib>=0.11 in /usr/local/lib/python3.7/dist-packages (from scikit-learn->pactools) (1.0.1)\n",
            "Requirement already satisfied, skipping upgrade: python-dateutil>=2.1 in /usr/local/lib/python3.7/dist-packages (from matplotlib->pactools) (2.8.1)\n",
            "Requirement already satisfied, skipping upgrade: pyparsing!=2.0.4,!=2.1.2,!=2.1.6,>=2.0.1 in /usr/local/lib/python3.7/dist-packages (from matplotlib->pactools) (2.4.7)\n",
            "Requirement already satisfied, skipping upgrade: cycler>=0.10 in /usr/local/lib/python3.7/dist-packages (from matplotlib->pactools) (0.10.0)\n",
            "Requirement already satisfied, skipping upgrade: kiwisolver>=1.0.1 in /usr/local/lib/python3.7/dist-packages (from matplotlib->pactools) (1.3.1)\n",
            "Requirement already satisfied, skipping upgrade: six>=1.5 in /usr/local/lib/python3.7/dist-packages (from python-dateutil>=2.1->matplotlib->pactools) (1.15.0)\n",
            "Running on PyMC3 v3.11.2\n"
          ],
          "name": "stdout"
        }
      ]
    },
    {
      "cell_type": "code",
      "metadata": {
        "id": "rMfTYqtqr0LI"
      },
      "source": [
        "Test_data = pd.read_csv('/content/drive/MyDrive/Biodata/Datas/World/X_test_Wor.csv')\n",
        "Test_data = Test_data.drop(['Unnamed: 0'],axis=1)\n",
        "\n",
        "Test_labels = pd.read_csv('/content/drive/MyDrive/Biodata/Datas/World/y_test_Wor.csv')\n",
        "Test_labels = Test_labels.drop(['Unnamed: 0'],axis=1)"
      ],
      "execution_count": 3,
      "outputs": []
    },
    {
      "cell_type": "code",
      "metadata": {
        "colab": {
          "base_uri": "https://localhost:8080/"
        },
        "id": "nmcDsg9Er26a",
        "outputId": "4dfe4876-4d7a-45e3-e2e6-8bd035ae3d2d"
      },
      "source": [
        "print(\"Shape X_test:\", Test_data.shape)\n",
        "print(\"Shape y_test:\", Test_labels.shape)"
      ],
      "execution_count": 4,
      "outputs": [
        {
          "output_type": "stream",
          "text": [
            "Shape X_test: (17093, 64)\n",
            "Shape y_test: (17093, 1)\n"
          ],
          "name": "stdout"
        }
      ]
    },
    {
      "cell_type": "code",
      "metadata": {
        "id": "LCljBGkqr6jp"
      },
      "source": [
        "for i in range(len(Test_labels)):\n",
        "  if (Test_labels['Depression_Score'][i]<=7.0):\n",
        "    Test_labels['Depression_Score'][i]=0\n",
        "  elif (Test_labels['Depression_Score'][i]<=12.0):\n",
        "    Test_labels['Depression_Score'][i]=1\n",
        "  else:\n",
        "    Test_labels['Depression_Score'][i]=2"
      ],
      "execution_count": 5,
      "outputs": []
    },
    {
      "cell_type": "code",
      "metadata": {
        "id": "St8yGZHbsJHL"
      },
      "source": [
        "MLP = keras.models.load_model('/content/drive/MyDrive/Biodata/Datas/World/Models_class/model_mlp-4-0.615-0.808')\n",
        "CNN =  keras.models.load_model('/content/drive/MyDrive/Biodata/Datas/World/Models_class/model_cnn-5-0.615-0.804')\n",
        "\n",
        "MLP_2ND = keras.models.load_model('/content/drive/MyDrive/Biodata/Datas/World/Models_class/model_mlp-2-0.613-0.82')\n",
        "CNN_2ND = keras.models.load_model('/content/drive/MyDrive/Biodata/Datas/World/Models_class/model_cnn-4-0.613-0.816')"
      ],
      "execution_count": 34,
      "outputs": []
    },
    {
      "cell_type": "code",
      "metadata": {
        "colab": {
          "base_uri": "https://localhost:8080/"
        },
        "id": "zGkpdV7YtwUp",
        "outputId": "7bd06070-1169-4126-f3fd-c34d80709683"
      },
      "source": [
        "img_rows, img_cols = 8,8\n",
        "\n",
        "Test_data_cnn=np.array(Test_data)\n",
        "Test_data_cnn = Test_data_cnn.reshape(Test_data.shape[0], img_rows, img_cols, 1)\n",
        "\n",
        "input_shape = (img_rows, img_cols, 1)\n",
        "\n",
        "Test_data_cnn = Test_data_cnn.astype('float32')\n",
        "\n",
        "print('x_train shape:', Test_data_cnn.shape)\n",
        "print(Test_data_cnn.shape[0], 'train samples')"
      ],
      "execution_count": 12,
      "outputs": [
        {
          "output_type": "stream",
          "text": [
            "x_train shape: (17093, 8, 8, 1)\n",
            "17093 train samples\n"
          ],
          "name": "stdout"
        }
      ]
    },
    {
      "cell_type": "code",
      "metadata": {
        "colab": {
          "base_uri": "https://localhost:8080/"
        },
        "id": "lA86Xml4tLHE",
        "outputId": "45969714-eba0-4fa2-973a-e5d7503e6ef6"
      },
      "source": [
        "pred_mlp=MLP.predict_classes(Test_data)\n",
        "cm = confusion_matrix(Test_labels, pred_mlp)\n",
        "cm = cm.astype('float') / cm.sum(axis=1)[:, np.newaxis]\n",
        "print(cm.diagonal())\n",
        "print(classification_report(Test_labels, pred_mlp))"
      ],
      "execution_count": 10,
      "outputs": [
        {
          "output_type": "stream",
          "text": [
            "/usr/local/lib/python3.7/dist-packages/tensorflow/python/keras/engine/sequential.py:455: UserWarning: `model.predict_classes()` is deprecated and will be removed after 2021-01-01. Please use instead:* `np.argmax(model.predict(x), axis=-1)`,   if your model does multi-class classification   (e.g. if it uses a `softmax` last-layer activation).* `(model.predict(x) > 0.5).astype(\"int32\")`,   if your model does binary classification   (e.g. if it uses a `sigmoid` last-layer activation).\n",
            "  warnings.warn('`model.predict_classes()` is deprecated and '\n"
          ],
          "name": "stderr"
        },
        {
          "output_type": "stream",
          "text": [
            "[0.71932953 0.45629908 0.67851431]\n",
            "              precision    recall  f1-score   support\n",
            "\n",
            "         0.0       0.65      0.72      0.68      5608\n",
            "         1.0       0.49      0.46      0.47      5858\n",
            "         2.0       0.70      0.68      0.69      5627\n",
            "\n",
            "    accuracy                           0.62     17093\n",
            "   macro avg       0.61      0.62      0.62     17093\n",
            "weighted avg       0.61      0.62      0.61     17093\n",
            "\n"
          ],
          "name": "stdout"
        }
      ]
    },
    {
      "cell_type": "code",
      "metadata": {
        "colab": {
          "base_uri": "https://localhost:8080/"
        },
        "id": "vnk69HEiusDP",
        "outputId": "142f6bf5-71f8-44fe-947b-efef1f9a6952"
      },
      "source": [
        "pred_cnn=CNN.predict_classes(Test_data_cnn)\n",
        "cm = confusion_matrix(Test_labels, pred_cnn)\n",
        "cm = cm.astype('float') / cm.sum(axis=1)[:, np.newaxis]\n",
        "print(cm.diagonal())\n",
        "print(classification_report(Test_labels, pred_cnn))"
      ],
      "execution_count": 13,
      "outputs": [
        {
          "output_type": "stream",
          "text": [
            "/usr/local/lib/python3.7/dist-packages/tensorflow/python/keras/engine/sequential.py:455: UserWarning: `model.predict_classes()` is deprecated and will be removed after 2021-01-01. Please use instead:* `np.argmax(model.predict(x), axis=-1)`,   if your model does multi-class classification   (e.g. if it uses a `softmax` last-layer activation).* `(model.predict(x) > 0.5).astype(\"int32\")`,   if your model does binary classification   (e.g. if it uses a `sigmoid` last-layer activation).\n",
            "  warnings.warn('`model.predict_classes()` is deprecated and '\n"
          ],
          "name": "stderr"
        },
        {
          "output_type": "stream",
          "text": [
            "[0.63373752 0.49556163 0.71796695]\n",
            "              precision    recall  f1-score   support\n",
            "\n",
            "         0.0       0.69      0.63      0.66      5608\n",
            "         1.0       0.48      0.50      0.49      5858\n",
            "         2.0       0.68      0.72      0.70      5627\n",
            "\n",
            "    accuracy                           0.61     17093\n",
            "   macro avg       0.62      0.62      0.62     17093\n",
            "weighted avg       0.62      0.61      0.61     17093\n",
            "\n"
          ],
          "name": "stdout"
        }
      ]
    },
    {
      "cell_type": "code",
      "metadata": {
        "id": "etuPjL3EvWZC"
      },
      "source": [
        "prob_mlp=MLP.predict(Test_data)\n",
        "prob_cnn=CNN.predict(Test_data_cnn)\n",
        "prob_mlp_2=MLP_2ND.predict(Test_data)\n",
        "prob_cnn_2=CNN_2ND.predict(Test_data_cnn)"
      ],
      "execution_count": 35,
      "outputs": []
    },
    {
      "cell_type": "code",
      "metadata": {
        "colab": {
          "base_uri": "https://localhost:8080/"
        },
        "id": "MHhSFiYGxJ67",
        "outputId": "ef19a12f-1b85-4744-b705-ed754a7247cf"
      },
      "source": [
        "pred_ensabmle=[]\n",
        "for i in range(len(prob_mlp)):\n",
        "  pred_ensabmle.append(argmax(prob_mlp[i]+prob_cnn[i]+prob_mlp_2[i]+prob_cnn_2[i]))\n",
        "pred_ensabmle=np.array(pred_ensabmle)\n",
        "\n",
        "cm = confusion_matrix(Test_labels, pred_ensabmle)\n",
        "cm = cm.astype('float') / cm.sum(axis=1)[:, np.newaxis]\n",
        "print(cm.diagonal())\n",
        "print(classification_report(Test_labels, pred_ensabmle))"
      ],
      "execution_count": 39,
      "outputs": [
        {
          "output_type": "stream",
          "text": [
            "[0.68830243 0.4720041  0.69521948]\n",
            "              precision    recall  f1-score   support\n",
            "\n",
            "         0.0       0.67      0.69      0.68      5608\n",
            "         1.0       0.49      0.47      0.48      5858\n",
            "         2.0       0.70      0.70      0.70      5627\n",
            "\n",
            "    accuracy                           0.62     17093\n",
            "   macro avg       0.62      0.62      0.62     17093\n",
            "weighted avg       0.61      0.62      0.62     17093\n",
            "\n"
          ],
          "name": "stdout"
        }
      ]
    }
  ]
}