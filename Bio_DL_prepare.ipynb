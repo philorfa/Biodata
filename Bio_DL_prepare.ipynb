{
  "nbformat": 4,
  "nbformat_minor": 0,
  "metadata": {
    "accelerator": "GPU",
    "colab": {
      "name": "Bio_DL_prepare.ipynb",
      "provenance": [],
      "mount_file_id": "1a9tqiiiFnMFNFJZsUsUuLVQfgzQt6taZ",
      "authorship_tag": "ABX9TyMI/wcyoSNeD135fsk8Go+c",
      "include_colab_link": true
    },
    "kernelspec": {
      "display_name": "Python 3",
      "name": "python3"
    },
    "language_info": {
      "name": "python"
    }
  },
  "cells": [
    {
      "cell_type": "markdown",
      "metadata": {
        "id": "view-in-github",
        "colab_type": "text"
      },
      "source": [
        "<a href=\"https://colab.research.google.com/github/philorfa/Biodata/blob/main/Bio_DL_prepare.ipynb\" target=\"_parent\"><img src=\"https://colab.research.google.com/assets/colab-badge.svg\" alt=\"Open In Colab\"/></a>"
      ]
    },
    {
      "cell_type": "code",
      "metadata": {
        "id": "HLBkyrmRTvgs"
      },
      "source": [
        "import tensorflow as tf\n",
        "from tensorflow.keras import datasets, layers, models\n",
        "from tensorflow.keras.preprocessing.image import ImageDataGenerator\n",
        "from tensorflow.keras.utils import to_categorical\n",
        "from time import time\n",
        "import numpy as np\n",
        "import pandas as pd\n",
        "import matplotlib.pyplot as plt\n",
        "from scipy import ndarray\n",
        "\n",
        "\n",
        "from sklearn.model_selection import train_test_split\n",
        "from os import path\n",
        "import os\n",
        "import requests\n",
        "from numpy import loadtxt\n",
        "from numpy import array\n",
        "from numpy.random import choice\n",
        "\n",
        "from tqdm import tqdm\n",
        "import geopy.distance\n",
        "from scipy import stats\n",
        "\n",
        "from sklearn import preprocessing\n",
        "from sklearn.decomposition import PCA\n",
        "\n",
        "from sklearn.preprocessing import MinMaxScaler\n",
        "from sklearn.metrics import mean_squared_error,r2_score\n",
        "from sklearn.metrics import mean_absolute_error\n",
        "from sklearn.model_selection import train_test_split\n",
        "from tensorflow.keras.models import Sequential\n",
        "from tensorflow.keras.layers import Dense\n",
        "from tensorflow.keras.layers import Dropout\n",
        "from tensorflow.keras.layers import LSTM\n",
        "from tensorflow.keras.layers import Conv1D\n",
        "from tensorflow.keras.layers import Flatten\n",
        "from tensorflow.keras.layers import Activation\n",
        "from tensorflow.keras.callbacks import EarlyStopping\n",
        "from tensorflow.keras import layers\n",
        "from tensorflow import keras\n",
        "import tensorflow\n",
        "from tensorflow.keras import datasets, layers, models\n",
        "from keras.utils import np_utils\n",
        "\n",
        "import numpy as np\n",
        "import matplotlib.pyplot as plt\n",
        "import pandas as pd\n",
        "from matplotlib.ticker import MaxNLocator\n",
        "\n",
        "#TESNORFOW\n",
        "import tensorflow as tf\n",
        "from tensorflow import keras\n",
        "#KERAS LIBRARIES\n",
        "from keras.preprocessing.text import Tokenizer\n",
        "from keras.models import Sequential,Model\n",
        "from keras.layers import Dense, Dropout , Flatten,BatchNormalization,Conv2D,MaxPooling2D, Activation,LSTM,Embedding,Input,GlobalAveragePooling2D\n",
        "from keras.regularizers import l1, l2, l1_l2\n",
        "from keras.callbacks import EarlyStopping, ModelCheckpoint,ReduceLROnPlateau\n",
        "from keras import backend \n",
        "from keras.utils import np_utils\n",
        "\n",
        "from sklearn.preprocessing import PolynomialFeatures\n",
        "from sklearn.linear_model import LinearRegression"
      ],
      "execution_count": 2,
      "outputs": []
    },
    {
      "cell_type": "code",
      "metadata": {
        "colab": {
          "base_uri": "https://localhost:8080/"
        },
        "id": "tovJdT11arpY",
        "outputId": "76caa72d-f6cf-46a9-f218-3d5e5d99251b"
      },
      "source": [
        "from google.colab import drive\n",
        "drive.mount('/content/drive')"
      ],
      "execution_count": null,
      "outputs": [
        {
          "output_type": "stream",
          "text": [
            "Drive already mounted at /content/drive; to attempt to forcibly remount, call drive.mount(\"/content/drive\", force_remount=True).\n"
          ],
          "name": "stdout"
        }
      ]
    },
    {
      "cell_type": "code",
      "metadata": {
        "id": "7cLLZ1zGeFNd"
      },
      "source": [
        "df_one= pd.read_csv('/content/drive/MyDrive/Biodata/OneHot.csv')"
      ],
      "execution_count": 3,
      "outputs": []
    },
    {
      "cell_type": "code",
      "metadata": {
        "id": "769IA5XzeSyf"
      },
      "source": [
        "df=df_one.drop(['Depr_a - Q38_a',\n",
        "           'Depr_b - Q38_b',\n",
        "           'Depr_c - Q38_c',\n",
        "           'Depr_d - Q38_d',\n",
        "           'Depr/Lonel_e - Q38_e',\n",
        "           'Depr_f - Q38_f',\t\n",
        "           'Depr_g - Q38_g',\n",
        "           'Depr_h - Q38_h',\n",
        "           'Metric_i - Q38_i',\n",
        "           'Metric_j - Q38_j',\n",
        "           'Metric_k - Q38_k',\n",
        "           'Metric_l - Q38_l',\n",
        "           'Lonel_m - Q38_m',\n",
        "           'Lonel_n - Q38_n',\n",
        "           'Finished',\n",
        "            'Stress_Score',\n",
        "            'Satisfaction_Score',\n",
        "            'FirstYear__3.0',\n",
        "            'FirstYear__No',\n",
        "            'FirstYear__Yes',\n",
        "            'Program__5.0',\n",
        "            'Program__6.0',\n",
        "            'Program__21.0',\n",
        "            'Education(Mother) - Q6',\n",
        "            'Education(Father) - Q7',\n",
        "            'University - Q11'\n",
        "           ],axis=1)"
      ],
      "execution_count": 4,
      "outputs": []
    },
    {
      "cell_type": "code",
      "metadata": {
        "colab": {
          "base_uri": "https://localhost:8080/"
        },
        "id": "BfA832MLXOzc",
        "outputId": "750f61a7-404f-4797-be83-e56400b063f1"
      },
      "source": [
        "df['Depression_Score']<=8"
      ],
      "execution_count": null,
      "outputs": [
        {
          "output_type": "execute_result",
          "data": {
            "text/plain": [
              "0         True\n",
              "1        False\n",
              "2        False\n",
              "3        False\n",
              "4         True\n",
              "         ...  \n",
              "85456     True\n",
              "85457    False\n",
              "85458    False\n",
              "85459    False\n",
              "85460     True\n",
              "Name: Depression_Score, Length: 85461, dtype: bool"
            ]
          },
          "metadata": {
            "tags": []
          },
          "execution_count": 34
        }
      ]
    },
    {
      "cell_type": "code",
      "metadata": {
        "colab": {
          "base_uri": "https://localhost:8080/"
        },
        "id": "wXoIKHzlWEoV",
        "outputId": "fdcc47d1-a7ea-432b-eaed-3f75ef082f1e"
      },
      "source": [
        "a=7\n",
        "b=12\n",
        "\n",
        "A =df.loc[df['Depression_Score']<=a].shape[0]\n",
        "\n",
        "B = df.loc[df['Depression_Score']<=b].shape[0] - A\n",
        "\n",
        "C = df.loc[df['Depression_Score']<=24].shape[0] - B - A\n",
        "\n",
        "print(A)\n",
        "print(B)\n",
        "print(C)\n"
      ],
      "execution_count": null,
      "outputs": [
        {
          "output_type": "stream",
          "text": [
            "28239\n",
            "29549\n",
            "27673\n"
          ],
          "name": "stdout"
        }
      ]
    },
    {
      "cell_type": "markdown",
      "metadata": {
        "id": "wnMrd82KHyrq"
      },
      "source": [
        "**Τελικά Dataset**"
      ]
    },
    {
      "cell_type": "code",
      "metadata": {
        "id": "3gyohakIUbqi"
      },
      "source": [
        "######### Belgium \n",
        "df_Belgium=df.loc[df['Country'] == 'Belgium']\n",
        "df_Bel=df_Belgium.drop(['Country'],axis=1)\n",
        "\n",
        "y_Bel=df_Bel['Depression_Score']\n",
        "X_Bel=df_Bel.drop(['Depression_Score'],axis=1)\n",
        "\n",
        "X_Bel.to_csv('/content/drive/MyDrive/Biodata/Datas/Belgium/X_Bel.csv')\n",
        "y_Bel.to_csv('/content/drive/MyDrive/Biodata/Datas/Belgium/y_Bel.csv')"
      ],
      "execution_count": 5,
      "outputs": []
    },
    {
      "cell_type": "code",
      "metadata": {
        "id": "VFZeWkwth2-B"
      },
      "source": [
        "######### World \n",
        "\n",
        "df_world = df.drop(['Country'],axis=1)\n",
        "y_world=df_world['Depression_Score']\n",
        "X_world=df_world.drop(['Depression_Score'],axis=1)\n",
        "\n",
        "X_world.to_csv('/content/drive/MyDrive/Biodata/Datas/World/X_World.csv')\n",
        "y_world.to_csv('/content/drive/MyDrive/Biodata/Datas/World/y_World.csv')"
      ],
      "execution_count": 6,
      "outputs": []
    },
    {
      "cell_type": "code",
      "metadata": {
        "colab": {
          "base_uri": "https://localhost:8080/"
        },
        "id": "hAAURoHdT-xK",
        "outputId": "ac90a742-64de-4d48-ae7d-1d6175676c82"
      },
      "source": [
        "a=7\n",
        "b=12\n",
        "\n",
        "A =df_Bel.loc[df_Bel['Depression_Score']<=a].shape[0]\n",
        "\n",
        "B = df_Bel.loc[df_Bel['Depression_Score']<=b].shape[0] - A\n",
        "\n",
        "C = df_Bel.loc[df_Bel['Depression_Score']<=24].shape[0] - B - A\n",
        "\n",
        "print(A)\n",
        "print(B)\n",
        "print(C)\n"
      ],
      "execution_count": null,
      "outputs": [
        {
          "output_type": "stream",
          "text": [
            "6080\n",
            "7256\n",
            "7251\n"
          ],
          "name": "stdout"
        }
      ]
    }
  ]
}