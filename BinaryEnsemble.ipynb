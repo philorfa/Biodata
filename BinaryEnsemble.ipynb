{
  "nbformat": 4,
  "nbformat_minor": 0,
  "metadata": {
    "colab": {
      "name": "BinaryEnsemble.ipynb",
      "provenance": [],
      "collapsed_sections": [],
      "mount_file_id": "1zha9TSl4-XaL7ozLlZkY_jorZ_SimV5b",
      "authorship_tag": "ABX9TyPVomj9iGHk5IAIs2UuR0yr",
      "include_colab_link": true
    },
    "kernelspec": {
      "name": "python3",
      "display_name": "Python 3"
    },
    "language_info": {
      "name": "python"
    }
  },
  "cells": [
    {
      "cell_type": "markdown",
      "metadata": {
        "id": "view-in-github",
        "colab_type": "text"
      },
      "source": [
        "<a href=\"https://colab.research.google.com/github/philorfa/Biodata/blob/main/BinaryEnsemble.ipynb\" target=\"_parent\"><img src=\"https://colab.research.google.com/assets/colab-badge.svg\" alt=\"Open In Colab\"/></a>"
      ]
    },
    {
      "cell_type": "code",
      "metadata": {
        "colab": {
          "base_uri": "https://localhost:8080/"
        },
        "cellView": "form",
        "id": "InS1R60drghb",
        "outputId": "7b1b6827-2e71-4bae-be77-274730a1d934"
      },
      "source": [
        "#@title\n",
        "from __future__ import absolute_import, division, print_function, unicode_literals # legacy compatibility\n",
        "\n",
        "import tensorflow as tf\n",
        "from tensorflow.keras import datasets, layers, models\n",
        "from tensorflow.keras.preprocessing.image import ImageDataGenerator\n",
        "from tensorflow.keras.utils import to_categorical\n",
        "from time import time\n",
        "import numpy as np\n",
        "import pandas as pd\n",
        "import matplotlib.pyplot as plt\n",
        "from scipy import ndarray\n",
        "import skimage as sk\n",
        "from skimage import transform\n",
        "from skimage import util\n",
        "#@title\n",
        "!pip install --upgrade pyswarm\n",
        "!pip install pymc3\n",
        "!pip install --upgrade pactools\n",
        "\n",
        "from sklearn.model_selection import train_test_split\n",
        "from pyswarm import pso\n",
        "from os import path\n",
        "import os\n",
        "import requests\n",
        "os.environ['TF_CPP_MIN_LOG_LEVEL'] = '2' \n",
        "import numpy\n",
        "import sys\n",
        "import numpy as np\n",
        "from numpy import loadtxt\n",
        "from numpy import array\n",
        "from numpy.random import choice\n",
        "import pandas as pd\n",
        "import time\n",
        "import random\n",
        "import statistics\n",
        "import pandas\n",
        "import math\n",
        "import csv\n",
        "import random\n",
        "import logging\n",
        "from pymc3 import *\n",
        "import pymc3 as pm\n",
        "from functools import reduce\n",
        "from operator import add\n",
        "from tqdm import tqdm\n",
        "import geopy.distance\n",
        "from scipy import stats\n",
        "import matplotlib.pyplot as plt\n",
        "import seaborn as sns\n",
        "from theano import shared\n",
        "from sklearn import preprocessing\n",
        "print('Running on PyMC3 v{}'.format(pm.__version__))\n",
        "from sklearn.preprocessing import MinMaxScaler\n",
        "from sklearn.metrics import mean_squared_error\n",
        "from sklearn.metrics import mean_absolute_error\n",
        "from sklearn.model_selection import train_test_split\n",
        "from tensorflow.keras.models import Sequential\n",
        "from tensorflow.keras.layers import Dense\n",
        "from tensorflow.keras.layers import Dropout\n",
        "from tensorflow.keras.layers import LSTM\n",
        "from tensorflow.keras.layers import Conv1D\n",
        "from tensorflow.keras.layers import Flatten\n",
        "from tensorflow.keras.layers import Activation\n",
        "from tensorflow.keras.callbacks import EarlyStopping\n",
        "from tensorflow.keras import layers\n",
        "from tensorflow import keras\n",
        "import tensorflow\n",
        "from tensorflow.keras import datasets, layers, models\n",
        "from keras.utils import np_utils\n",
        "\n",
        "import numpy as np\n",
        "import matplotlib.pyplot as plt\n",
        "import pandas as pd\n",
        "from matplotlib.ticker import MaxNLocator\n",
        "\n",
        "#TESNORFOW\n",
        "import tensorflow as tf\n",
        "from tensorflow import keras\n",
        "from keras import datasets, layers, models\n",
        "#KERAS LIBRARIES\n",
        "from keras.preprocessing.text import Tokenizer\n",
        "from keras.models import Sequential,Model\n",
        "from keras.layers import Dense, Dropout , Flatten,BatchNormalization,Conv2D,MaxPooling2D, Activation,LSTM,Embedding,Input,GlobalAveragePooling2D\n",
        "from keras.regularizers import l1, l2, l1_l2\n",
        "from keras.callbacks import EarlyStopping, ModelCheckpoint,ReduceLROnPlateau\n",
        "from keras import backend \n",
        "from keras.utils import np_utils\n",
        "\n",
        "from numpy import savetxt\n",
        "\n",
        "from sklearn.metrics import classification_report\n",
        "from sklearn.metrics import confusion_matrix\n",
        "\n",
        "from numpy import argmax"
      ],
      "execution_count": 1,
      "outputs": [
        {
          "output_type": "stream",
          "text": [
            "Collecting pyswarm\n",
            "  Downloading https://files.pythonhosted.org/packages/79/1e/254c108b5e65c65d57a83a9a448405ea8b6a6c5c10dada8bcab4e9d9a831/pyswarm-0.6.tar.gz\n",
            "Requirement already satisfied, skipping upgrade: numpy in /usr/local/lib/python3.7/dist-packages (from pyswarm) (1.19.5)\n",
            "Building wheels for collected packages: pyswarm\n",
            "  Building wheel for pyswarm (setup.py) ... \u001b[?25l\u001b[?25hdone\n",
            "  Created wheel for pyswarm: filename=pyswarm-0.6-cp37-none-any.whl size=4481 sha256=7f28fb6cf2c802485bbd75552b6f91a272c51bbec5f9a30ec210e508f5d7eafc\n",
            "  Stored in directory: /root/.cache/pip/wheels/37/c5/f6/b33b9ac00040cb95c1f00af982a4197334a672d6de43f4699f\n",
            "Successfully built pyswarm\n",
            "Installing collected packages: pyswarm\n",
            "Successfully installed pyswarm-0.6\n",
            "Requirement already satisfied: pymc3 in /usr/local/lib/python3.7/dist-packages (3.11.2)\n",
            "Requirement already satisfied: arviz>=0.11.0 in /usr/local/lib/python3.7/dist-packages (from pymc3) (0.11.2)\n",
            "Requirement already satisfied: pandas>=0.24.0 in /usr/local/lib/python3.7/dist-packages (from pymc3) (1.1.5)\n",
            "Requirement already satisfied: semver in /usr/local/lib/python3.7/dist-packages (from pymc3) (2.13.0)\n",
            "Requirement already satisfied: scipy>=1.2.0 in /usr/local/lib/python3.7/dist-packages (from pymc3) (1.4.1)\n",
            "Requirement already satisfied: dill in /usr/local/lib/python3.7/dist-packages (from pymc3) (0.3.4)\n",
            "Requirement already satisfied: numpy>=1.15.0 in /usr/local/lib/python3.7/dist-packages (from pymc3) (1.19.5)\n",
            "Requirement already satisfied: cachetools>=4.2.1 in /usr/local/lib/python3.7/dist-packages (from pymc3) (4.2.2)\n",
            "Requirement already satisfied: theano-pymc==1.1.2 in /usr/local/lib/python3.7/dist-packages (from pymc3) (1.1.2)\n",
            "Requirement already satisfied: fastprogress>=0.2.0 in /usr/local/lib/python3.7/dist-packages (from pymc3) (1.0.0)\n",
            "Requirement already satisfied: typing-extensions>=3.7.4 in /usr/local/lib/python3.7/dist-packages (from pymc3) (3.7.4.3)\n",
            "Requirement already satisfied: patsy>=0.5.1 in /usr/local/lib/python3.7/dist-packages (from pymc3) (0.5.1)\n",
            "Requirement already satisfied: packaging in /usr/local/lib/python3.7/dist-packages (from arviz>=0.11.0->pymc3) (20.9)\n",
            "Requirement already satisfied: xarray>=0.16.1 in /usr/local/lib/python3.7/dist-packages (from arviz>=0.11.0->pymc3) (0.18.2)\n",
            "Requirement already satisfied: setuptools>=38.4 in /usr/local/lib/python3.7/dist-packages (from arviz>=0.11.0->pymc3) (57.0.0)\n",
            "Requirement already satisfied: matplotlib>=3.0 in /usr/local/lib/python3.7/dist-packages (from arviz>=0.11.0->pymc3) (3.2.2)\n",
            "Requirement already satisfied: netcdf4 in /usr/local/lib/python3.7/dist-packages (from arviz>=0.11.0->pymc3) (1.5.7)\n",
            "Requirement already satisfied: python-dateutil>=2.7.3 in /usr/local/lib/python3.7/dist-packages (from pandas>=0.24.0->pymc3) (2.8.1)\n",
            "Requirement already satisfied: pytz>=2017.2 in /usr/local/lib/python3.7/dist-packages (from pandas>=0.24.0->pymc3) (2018.9)\n",
            "Requirement already satisfied: filelock in /usr/local/lib/python3.7/dist-packages (from theano-pymc==1.1.2->pymc3) (3.0.12)\n",
            "Requirement already satisfied: six in /usr/local/lib/python3.7/dist-packages (from patsy>=0.5.1->pymc3) (1.15.0)\n",
            "Requirement already satisfied: pyparsing>=2.0.2 in /usr/local/lib/python3.7/dist-packages (from packaging->arviz>=0.11.0->pymc3) (2.4.7)\n",
            "Requirement already satisfied: cycler>=0.10 in /usr/local/lib/python3.7/dist-packages (from matplotlib>=3.0->arviz>=0.11.0->pymc3) (0.10.0)\n",
            "Requirement already satisfied: kiwisolver>=1.0.1 in /usr/local/lib/python3.7/dist-packages (from matplotlib>=3.0->arviz>=0.11.0->pymc3) (1.3.1)\n",
            "Requirement already satisfied: cftime in /usr/local/lib/python3.7/dist-packages (from netcdf4->arviz>=0.11.0->pymc3) (1.5.0)\n",
            "Collecting pactools\n",
            "\u001b[?25l  Downloading https://files.pythonhosted.org/packages/17/14/4c4eba6e54408e536be27b9891cea68ea391d7d190936593aa71e5c6405e/pactools-0.3.1-py3-none-any.whl (82kB)\n",
            "\u001b[K     |████████████████████████████████| 92kB 3.0MB/s \n",
            "\u001b[?25hRequirement already satisfied, skipping upgrade: h5py in /usr/local/lib/python3.7/dist-packages (from pactools) (3.1.0)\n",
            "Requirement already satisfied, skipping upgrade: matplotlib in /usr/local/lib/python3.7/dist-packages (from pactools) (3.2.2)\n",
            "Collecting mne\n",
            "\u001b[?25l  Downloading https://files.pythonhosted.org/packages/60/f7/2bf5de3fad42b66d00ee27539bc3be0260b4e66fdecc12f740cdf2daf2e7/mne-0.23.0-py3-none-any.whl (6.9MB)\n",
            "\u001b[K     |████████████████████████████████| 7.0MB 4.8MB/s \n",
            "\u001b[?25hRequirement already satisfied, skipping upgrade: numpy in /usr/local/lib/python3.7/dist-packages (from pactools) (1.19.5)\n",
            "Requirement already satisfied, skipping upgrade: scikit-learn in /usr/local/lib/python3.7/dist-packages (from pactools) (0.22.2.post1)\n",
            "Requirement already satisfied, skipping upgrade: scipy in /usr/local/lib/python3.7/dist-packages (from pactools) (1.4.1)\n",
            "Requirement already satisfied, skipping upgrade: cached-property; python_version < \"3.8\" in /usr/local/lib/python3.7/dist-packages (from h5py->pactools) (1.5.2)\n",
            "Requirement already satisfied, skipping upgrade: cycler>=0.10 in /usr/local/lib/python3.7/dist-packages (from matplotlib->pactools) (0.10.0)\n",
            "Requirement already satisfied, skipping upgrade: pyparsing!=2.0.4,!=2.1.2,!=2.1.6,>=2.0.1 in /usr/local/lib/python3.7/dist-packages (from matplotlib->pactools) (2.4.7)\n",
            "Requirement already satisfied, skipping upgrade: kiwisolver>=1.0.1 in /usr/local/lib/python3.7/dist-packages (from matplotlib->pactools) (1.3.1)\n",
            "Requirement already satisfied, skipping upgrade: python-dateutil>=2.1 in /usr/local/lib/python3.7/dist-packages (from matplotlib->pactools) (2.8.1)\n",
            "Requirement already satisfied, skipping upgrade: joblib>=0.11 in /usr/local/lib/python3.7/dist-packages (from scikit-learn->pactools) (1.0.1)\n",
            "Requirement already satisfied, skipping upgrade: six in /usr/local/lib/python3.7/dist-packages (from cycler>=0.10->matplotlib->pactools) (1.15.0)\n",
            "Installing collected packages: mne, pactools\n",
            "Successfully installed mne-0.23.0 pactools-0.3.1\n",
            "Running on PyMC3 v3.11.2\n"
          ],
          "name": "stdout"
        }
      ]
    },
    {
      "cell_type": "code",
      "metadata": {
        "id": "rMfTYqtqr0LI"
      },
      "source": [
        "Test_data = pd.read_csv('/content/drive/MyDrive/Biodata/Datas/World/X_Test.csv')\n",
        "Test_data = Test_data.drop(['Unnamed: 0'],axis=1)\n",
        "\n",
        "Test_labels = pd.read_csv('/content/drive/MyDrive/Biodata/Datas/World/y_Test.csv')\n",
        "Test_labels = Test_labels.drop(['Unnamed: 0'],axis=1)\n",
        "\n",
        "Test_data_Bel = pd.read_csv('/content/drive/MyDrive/Biodata/Datas/Belgium/X_Test.csv')\n",
        "Test_data_Bel = Test_data_Bel.drop(['Unnamed: 0'],axis=1)\n",
        "\n",
        "Test_labels_Bel = pd.read_csv('/content/drive/MyDrive/Biodata/Datas/Belgium/y_Test.csv')\n",
        "Test_labels_Bel = Test_labels_Bel.drop(['Unnamed: 0'],axis=1)"
      ],
      "execution_count": 5,
      "outputs": []
    },
    {
      "cell_type": "code",
      "metadata": {
        "colab": {
          "base_uri": "https://localhost:8080/"
        },
        "id": "nmcDsg9Er26a",
        "outputId": "af67148b-102a-4ff6-8eed-5d721f1e1244"
      },
      "source": [
        "print(\"Shape X_test_World:\", Test_data.shape)\n",
        "print(\"Shape y_test_World:\", Test_labels.shape)\n",
        "\n",
        "print(\"Shape X_test_Bel:\", Test_data_Bel.shape)\n",
        "print(\"Shape y_test_Bel:\", Test_labels_Bel.shape)\n"
      ],
      "execution_count": 6,
      "outputs": [
        {
          "output_type": "stream",
          "text": [
            "Shape X_test_World: (17056, 64)\n",
            "Shape y_test_World: (17056, 1)\n",
            "Shape X_test_Bel: (4075, 64)\n",
            "Shape y_test_Bel: (4075, 1)\n"
          ],
          "name": "stdout"
        }
      ]
    },
    {
      "cell_type": "code",
      "metadata": {
        "id": "St8yGZHbsJHL"
      },
      "source": [
        "MLP_Bel_1 = keras.models.load_model('/content/drive/MyDrive/Biodata/Datas/Belgium/Models_class/Combination/model_1_mlp_bel_-1-0.782-0.468')\n",
        "MLP_Bel_2 =  keras.models.load_model('/content/drive/MyDrive/Biodata/Datas/Belgium/Models_class/Combination/model_2_mlp_bel_-3-0.764-0.508')\n",
        "MLP_Bel_3 =  keras.models.load_model('/content/drive/MyDrive/Biodata/Datas/Belgium/Models_class/Combination/model_3_mlp_bel_-8-0.767-0.475')\n",
        "\n",
        "\n",
        "CNN_Bel_1 = keras.models.load_model('/content/drive/MyDrive/Biodata/Datas/Belgium/Models_class/Combination/model_1_cnn-7-0.774-0.478')\n",
        "CNN_Bel_2 = keras.models.load_model('/content/drive/MyDrive/Biodata/Datas/Belgium/Models_class/Combination/model_2_cnn-3-0.759-0.495')\n",
        "CNN_Bel_3 = keras.models.load_model('/content/drive/MyDrive/Biodata/Datas/Belgium/Models_class/Combination/model_3_cnn-2-0.769-0.477')\n",
        "\n",
        "\n",
        "MLP_Wor_1 = keras.models.load_model('/content/drive/MyDrive/Biodata/Datas/World/Models_class/Combination/model_1_mlp-1-0.772-0.474')\n",
        "MLP_Wor_2 =  keras.models.load_model('/content/drive/MyDrive/Biodata/Datas/World/Models_class/Combination/model_2_mlp-25-0.774-0.467')\n",
        "\n",
        "CNN_Wor_1 = keras.models.load_model('/content/drive/MyDrive/Biodata/Datas/World/Models_class/Combination/model_1_cnn-6-0.775-0.47')\n",
        "CNN_Wor_2 = keras.models.load_model('/content/drive/MyDrive/Biodata/Datas/World/Models_class/Combination/model_2_cnn-5-0.773-0.467')"
      ],
      "execution_count": 10,
      "outputs": []
    },
    {
      "cell_type": "code",
      "metadata": {
        "colab": {
          "base_uri": "https://localhost:8080/"
        },
        "id": "zGkpdV7YtwUp",
        "outputId": "17e6cc8e-a912-41ca-89e6-ddcc070a4052"
      },
      "source": [
        "img_rows, img_cols = 8,8\n",
        "\n",
        "Test_data_cnn=np.array(Test_data)\n",
        "Test_data_cnn = Test_data_cnn.reshape(Test_data.shape[0], img_rows, img_cols, 1)\n",
        "\n",
        "Test_data_cnn_Bel=np.array(Test_data_Bel)\n",
        "Test_data_cnn_Bel = Test_data_cnn_Bel.reshape(Test_data_Bel.shape[0], img_rows, img_cols, 1)\n",
        "\n",
        "input_shape = (img_rows, img_cols, 1)\n",
        "\n",
        "Test_data_cnn = Test_data_cnn.astype('float32')\n",
        "\n",
        "Test_data_cnn_Bel = Test_data_cnn_Bel.astype('float32')\n",
        "\n",
        "print('x_test shape World:', Test_data_cnn.shape)\n",
        "print(Test_data_cnn.shape[0], 'test samples world')\n",
        "\n",
        "print('x_test shape Belgium:', Test_data_cnn_Bel.shape)\n",
        "print(Test_data_cnn_Bel.shape[0], 'test samples Belgium')"
      ],
      "execution_count": 11,
      "outputs": [
        {
          "output_type": "stream",
          "text": [
            "x_test shape World: (17056, 8, 8, 1)\n",
            "17056 test samples world\n",
            "x_test shape Belgium: (4075, 8, 8, 1)\n",
            "4075 test samples Belgium\n"
          ],
          "name": "stdout"
        }
      ]
    },
    {
      "cell_type": "code",
      "metadata": {
        "id": "slaXK0d5QauY"
      },
      "source": [
        "Bel_prob_mlp_1=MLP_Bel_1.predict(Test_data_Bel)\n",
        "Bel_prob_mlp_2=MLP_Bel_2.predict(Test_data_Bel)\n",
        "Bel_prob_mlp_3=MLP_Bel_3.predict(Test_data_Bel)\n",
        "Bel_prob_cnn_1=CNN_Bel_1.predict(Test_data_cnn_Bel)\n",
        "Bel_prob_cnn_2=CNN_Bel_2.predict(Test_data_cnn_Bel)\n",
        "Bel_prob_cnn_3=CNN_Bel_3.predict(Test_data_cnn_Bel)\n",
        "\n",
        "Wor_prob_mlp_1=MLP_Wor_1.predict(Test_data)\n",
        "Wor_prob_mlp_2=MLP_Wor_2.predict(Test_data)\n",
        "Wor_prob_cnn_1=CNN_Wor_1.predict(Test_data_cnn)\n",
        "Wor_prob_cnn_2=CNN_Wor_2.predict(Test_data_cnn)"
      ],
      "execution_count": 12,
      "outputs": []
    },
    {
      "cell_type": "code",
      "metadata": {
        "colab": {
          "base_uri": "https://localhost:8080/"
        },
        "id": "GI2fi-M0Rqsz",
        "outputId": "0c9db68b-0c76-47e1-bf9c-f0d962e89873"
      },
      "source": [
        "#BELGIUM\n",
        "\n",
        "#MEAN\n",
        "pred_ensebmle_bel=[]\n",
        "for i in range(len(Bel_prob_mlp_1)):\n",
        "  val=(Bel_prob_mlp_1[i][0]+Bel_prob_mlp_2[i][0]+Bel_prob_mlp_3[i][0])/3\n",
        "  if (val>=0.5):\n",
        "    pred_ensebmle_bel.append(0)\n",
        "  else:\n",
        "    pred_ensebmle_bel.append(1)\n",
        "pred_ensebmle_bel=np.array(pred_ensebmle_bel)\n",
        "\n",
        "\n",
        "cm = confusion_matrix(Test_labels_Bel, pred_ensebmle_bel)\n",
        "cm = cm.astype('float') / cm.sum(axis=1)[:, np.newaxis]\n",
        "print(cm.diagonal())\n",
        "print(classification_report(Test_labels_Bel, pred_ensebmle_bel))"
      ],
      "execution_count": 16,
      "outputs": [
        {
          "output_type": "stream",
          "text": [
            "[0.78117862 0.75397667]\n",
            "              precision    recall  f1-score   support\n",
            "\n",
            "         0.0       0.79      0.78      0.78      2189\n",
            "         1.0       0.75      0.75      0.75      1886\n",
            "\n",
            "    accuracy                           0.77      4075\n",
            "   macro avg       0.77      0.77      0.77      4075\n",
            "weighted avg       0.77      0.77      0.77      4075\n",
            "\n"
          ],
          "name": "stdout"
        }
      ]
    },
    {
      "cell_type": "code",
      "metadata": {
        "colab": {
          "base_uri": "https://localhost:8080/"
        },
        "id": "8TsFjlVMygjV",
        "outputId": "ff70efb9-d030-4d14-d741-c07b45d7e021"
      },
      "source": [
        "#MAX\n",
        "\n",
        "pred_ensebmle_bel=[]\n",
        "for i in range(len(Bel_prob_mlp_1)):\n",
        "  val=max(Bel_prob_mlp_1[i][0],Bel_prob_mlp_2[i][0],Bel_prob_mlp_3[i][0])\n",
        "  if (val>=0.5):\n",
        "    pred_ensebmle_bel.append(0)\n",
        "  else:\n",
        "    pred_ensebmle_bel.append(1)\n",
        "pred_ensebmle_bel=np.array(pred_ensebmle_bel)\n",
        "\n",
        "\n",
        "cm = confusion_matrix(Test_labels_Bel, pred_ensebmle_bel)\n",
        "cm = cm.astype('float') / cm.sum(axis=1)[:, np.newaxis]\n",
        "print(cm.diagonal())\n",
        "print(classification_report(Test_labels_Bel, pred_ensebmle_bel))"
      ],
      "execution_count": 18,
      "outputs": [
        {
          "output_type": "stream",
          "text": [
            "[0.85609868 0.67497349]\n",
            "              precision    recall  f1-score   support\n",
            "\n",
            "         0.0       0.75      0.86      0.80      2189\n",
            "         1.0       0.80      0.67      0.73      1886\n",
            "\n",
            "    accuracy                           0.77      4075\n",
            "   macro avg       0.78      0.77      0.77      4075\n",
            "weighted avg       0.78      0.77      0.77      4075\n",
            "\n"
          ],
          "name": "stdout"
        }
      ]
    },
    {
      "cell_type": "code",
      "metadata": {
        "colab": {
          "base_uri": "https://localhost:8080/"
        },
        "id": "lA86Xml4tLHE",
        "outputId": "85776f21-e7b6-4ef6-e66c-3eacf2713c7a"
      },
      "source": [
        "#MIN\n",
        "\n",
        "pred_ensebmle_bel=[]\n",
        "for i in range(len(Bel_prob_mlp_1)):\n",
        "  val=min(Bel_prob_mlp_1[i][0],Bel_prob_mlp_2[i][0],Bel_prob_mlp_3[i][0])\n",
        "  if (val>=0.5):\n",
        "    pred_ensebmle_bel.append(0)\n",
        "  else:\n",
        "    pred_ensebmle_bel.append(1)\n",
        "pred_ensebmle_bel=np.array(pred_ensebmle_bel)\n",
        "\n",
        "\n",
        "cm = confusion_matrix(Test_labels_Bel, pred_ensebmle_bel)\n",
        "cm = cm.astype('float') / cm.sum(axis=1)[:, np.newaxis]\n",
        "print(cm.diagonal())\n",
        "print(classification_report(Test_labels_Bel, pred_ensebmle_bel))"
      ],
      "execution_count": 19,
      "outputs": [
        {
          "output_type": "stream",
          "text": [
            "[0.69986295 0.82131495]\n",
            "              precision    recall  f1-score   support\n",
            "\n",
            "         0.0       0.82      0.70      0.76      2189\n",
            "         1.0       0.70      0.82      0.76      1886\n",
            "\n",
            "    accuracy                           0.76      4075\n",
            "   macro avg       0.76      0.76      0.76      4075\n",
            "weighted avg       0.77      0.76      0.76      4075\n",
            "\n"
          ],
          "name": "stdout"
        }
      ]
    },
    {
      "cell_type": "code",
      "metadata": {
        "colab": {
          "base_uri": "https://localhost:8080/"
        },
        "id": "LMwt_6JNxKll",
        "outputId": "2bf51061-f936-4087-d48c-1ec36eb04c6d"
      },
      "source": [
        "#Weighted\n",
        "\n",
        "def inv(x):\n",
        "  if (x>=0.5):\n",
        "    return x\n",
        "  else:\n",
        "    return 1-x\n",
        "\n",
        "\n",
        "pred_ensebmle_bel=[]\n",
        "for i in range(len(Bel_prob_mlp_1)):\n",
        "  val1=inv(Bel_prob_mlp_1[i][0])\n",
        "  val2=inv(Bel_prob_mlp_2[i][0])\n",
        "  val3=inv(Bel_prob_mlp_3[i][0])\n",
        "  par=val1+val2+val3\n",
        "  w1=val1/par\n",
        "  w2=val2/par\n",
        "  w3=val3/par\n",
        "  val=(w1*Bel_prob_mlp_1[i][0]+w2*Bel_prob_mlp_2[i][0]+w3*Bel_prob_mlp_3[i][0])\n",
        "  if (val>=0.5):\n",
        "    pred_ensebmle_bel.append(0)\n",
        "  else:\n",
        "    pred_ensebmle_bel.append(1)\n",
        "pred_ensebmle_bel=np.array(pred_ensebmle_bel)\n",
        "\n",
        "\n",
        "cm = confusion_matrix(Test_labels_Bel, pred_ensebmle_bel)\n",
        "cm = cm.astype('float') / cm.sum(axis=1)[:, np.newaxis]\n",
        "print(cm.diagonal())\n",
        "print(classification_report(Test_labels_Bel, pred_ensebmle_bel))"
      ],
      "execution_count": 29,
      "outputs": [
        {
          "output_type": "stream",
          "text": [
            "[0.78300594 0.75450689]\n",
            "              precision    recall  f1-score   support\n",
            "\n",
            "         0.0       0.79      0.78      0.79      2189\n",
            "         1.0       0.75      0.75      0.75      1886\n",
            "\n",
            "    accuracy                           0.77      4075\n",
            "   macro avg       0.77      0.77      0.77      4075\n",
            "weighted avg       0.77      0.77      0.77      4075\n",
            "\n"
          ],
          "name": "stdout"
        }
      ]
    },
    {
      "cell_type": "code",
      "metadata": {
        "colab": {
          "base_uri": "https://localhost:8080/"
        },
        "id": "A0BtkkGHLQZe",
        "outputId": "8cb9e774-6422-458f-a529-deb02110adde"
      },
      "source": [
        "#BELGIUM\n",
        "\n",
        "#MEAN\n",
        "pred_ensebmle_bel=[]\n",
        "for i in range(len(Bel_prob_cnn_1)):\n",
        "  val=(Bel_prob_cnn_1[i][0]+Bel_prob_cnn_2[i][0]+Bel_prob_cnn_3[i][0])/3\n",
        "  if (val>=0.5):\n",
        "    pred_ensebmle_bel.append(0)\n",
        "  else:\n",
        "    pred_ensebmle_bel.append(1)\n",
        "pred_ensebmle_bel=np.array(pred_ensebmle_bel)\n",
        "\n",
        "\n",
        "cm = confusion_matrix(Test_labels_Bel, pred_ensebmle_bel)\n",
        "cm = cm.astype('float') / cm.sum(axis=1)[:, np.newaxis]\n",
        "print(cm.diagonal())\n",
        "print(classification_report(Test_labels_Bel, pred_ensebmle_bel))"
      ],
      "execution_count": 31,
      "outputs": [
        {
          "output_type": "stream",
          "text": [
            "[0.75331201 0.77359491]\n",
            "              precision    recall  f1-score   support\n",
            "\n",
            "         0.0       0.79      0.75      0.77      2189\n",
            "         1.0       0.73      0.77      0.75      1886\n",
            "\n",
            "    accuracy                           0.76      4075\n",
            "   macro avg       0.76      0.76      0.76      4075\n",
            "weighted avg       0.76      0.76      0.76      4075\n",
            "\n"
          ],
          "name": "stdout"
        }
      ]
    },
    {
      "cell_type": "code",
      "metadata": {
        "id": "_lpVOqemKhg7",
        "colab": {
          "base_uri": "https://localhost:8080/"
        },
        "outputId": "35ac7a80-5b68-43d0-c115-231e333d7881"
      },
      "source": [
        "#MAX\n",
        "\n",
        "pred_ensebmle_bel=[]\n",
        "for i in range(len(Bel_prob_cnn_1)):\n",
        "  val=max(Bel_prob_cnn_1[i][0],Bel_prob_cnn_2[i][0],Bel_prob_cnn_3[i][0])\n",
        "  if (val>=0.5):\n",
        "    pred_ensebmle_bel.append(0)\n",
        "  else:\n",
        "    pred_ensebmle_bel.append(1)\n",
        "pred_ensebmle_bel=np.array(pred_ensebmle_bel)\n",
        "\n",
        "\n",
        "cm = confusion_matrix(Test_labels_Bel, pred_ensebmle_bel)\n",
        "cm = cm.astype('float') / cm.sum(axis=1)[:, np.newaxis]\n",
        "print(cm.diagonal())\n",
        "print(classification_report(Test_labels_Bel, pred_ensebmle_bel))"
      ],
      "execution_count": 30,
      "outputs": [
        {
          "output_type": "stream",
          "text": [
            "[0.81909548 0.7126193 ]\n",
            "              precision    recall  f1-score   support\n",
            "\n",
            "         0.0       0.77      0.82      0.79      2189\n",
            "         1.0       0.77      0.71      0.74      1886\n",
            "\n",
            "    accuracy                           0.77      4075\n",
            "   macro avg       0.77      0.77      0.77      4075\n",
            "weighted avg       0.77      0.77      0.77      4075\n",
            "\n"
          ],
          "name": "stdout"
        }
      ]
    },
    {
      "cell_type": "code",
      "metadata": {
        "colab": {
          "base_uri": "https://localhost:8080/"
        },
        "id": "wSID2SThLbbK",
        "outputId": "3193aeb2-f5b8-4f0b-d8f3-ee66194be959"
      },
      "source": [
        "#MIN\n",
        "\n",
        "pred_ensebmle_bel=[]\n",
        "for i in range(len(Bel_prob_mlp_1)):\n",
        "  val=min(Bel_prob_mlp_1[i][0],Bel_prob_mlp_2[i][0],Bel_prob_mlp_3[i][0])\n",
        "  if (val>=0.5):\n",
        "    pred_ensebmle_bel.append(0)\n",
        "  else:\n",
        "    pred_ensebmle_bel.append(1)\n",
        "pred_ensebmle_bel=np.array(pred_ensebmle_bel)\n",
        "\n",
        "\n",
        "cm = confusion_matrix(Test_labels_Bel, pred_ensebmle_bel)\n",
        "cm = cm.astype('float') / cm.sum(axis=1)[:, np.newaxis]\n",
        "print(cm.diagonal())\n",
        "print(classification_report(Test_labels_Bel, pred_ensebmle_bel))"
      ],
      "execution_count": 32,
      "outputs": [
        {
          "output_type": "stream",
          "text": [
            "[0.69986295 0.82131495]\n",
            "              precision    recall  f1-score   support\n",
            "\n",
            "         0.0       0.82      0.70      0.76      2189\n",
            "         1.0       0.70      0.82      0.76      1886\n",
            "\n",
            "    accuracy                           0.76      4075\n",
            "   macro avg       0.76      0.76      0.76      4075\n",
            "weighted avg       0.77      0.76      0.76      4075\n",
            "\n"
          ],
          "name": "stdout"
        }
      ]
    },
    {
      "cell_type": "code",
      "metadata": {
        "colab": {
          "base_uri": "https://localhost:8080/"
        },
        "id": "rRYMyFnXK9Nu",
        "outputId": "754724e4-a38e-4d06-bf64-2827c4b3ea6d"
      },
      "source": [
        "#Weighted\n",
        "\n",
        "def inv(x):\n",
        "  if (x>=0.5):\n",
        "    return x\n",
        "  else:\n",
        "    return 1-x\n",
        "\n",
        "\n",
        "pred_ensebmle_bel=[]\n",
        "for i in range(len(Bel_prob_cnn_1)):\n",
        "  val1=inv(Bel_prob_cnn_1[i][0])\n",
        "  val2=inv(Bel_prob_cnn_2[i][0])\n",
        "  val3=inv(Bel_prob_cnn_3[i][0])\n",
        "  par=val1+val2+val3\n",
        "  w1=val1/par\n",
        "  w2=val2/par\n",
        "  w3=val3/par\n",
        "  val=(w1*Bel_prob_cnn_1[i][0]+w2*Bel_prob_cnn_2[i][0]+w3*Bel_prob_cnn_3[i][0])\n",
        "  if (val>=0.5):\n",
        "    pred_ensebmle_bel.append(0)\n",
        "  else:\n",
        "    pred_ensebmle_bel.append(1)\n",
        "pred_ensebmle_bel=np.array(pred_ensebmle_bel)\n",
        "\n",
        "\n",
        "cm = confusion_matrix(Test_labels_Bel, pred_ensebmle_bel)\n",
        "cm = cm.astype('float') / cm.sum(axis=1)[:, np.newaxis]\n",
        "print(cm.diagonal())\n",
        "print(classification_report(Test_labels_Bel, pred_ensebmle_bel))"
      ],
      "execution_count": 33,
      "outputs": [
        {
          "output_type": "stream",
          "text": [
            "[0.75285519 0.77412513]\n",
            "              precision    recall  f1-score   support\n",
            "\n",
            "         0.0       0.79      0.75      0.77      2189\n",
            "         1.0       0.73      0.77      0.75      1886\n",
            "\n",
            "    accuracy                           0.76      4075\n",
            "   macro avg       0.76      0.76      0.76      4075\n",
            "weighted avg       0.76      0.76      0.76      4075\n",
            "\n"
          ],
          "name": "stdout"
        }
      ]
    },
    {
      "cell_type": "code",
      "metadata": {
        "colab": {
          "base_uri": "https://localhost:8080/"
        },
        "id": "Fy_voKb2MR3M",
        "outputId": "26989f8b-1e0e-4493-f6a9-a58837b0e0fc"
      },
      "source": [
        "#World\n",
        "\n",
        "#MEAN\n",
        "pred_ensebmle=[]\n",
        "for i in range(len(Wor_prob_mlp_1)):\n",
        "  val=(Wor_prob_mlp_1[i][0]+Wor_prob_mlp_2[i][0])/2\n",
        "  if (val>=0.5):\n",
        "    pred_ensebmle.append(0)\n",
        "  else:\n",
        "    pred_ensebmle.append(1)\n",
        "pred_ensebmle=np.array(pred_ensebmle)\n",
        "\n",
        "\n",
        "cm = confusion_matrix(Test_labels, pred_ensebmle)\n",
        "cm = cm.astype('float') / cm.sum(axis=1)[:, np.newaxis]\n",
        "print(cm.diagonal())\n",
        "print(classification_report(Test_labels, pred_ensebmle))"
      ],
      "execution_count": 34,
      "outputs": [
        {
          "output_type": "stream",
          "text": [
            "[0.74716714 0.77003728]\n",
            "              precision    recall  f1-score   support\n",
            "\n",
            "         0.0       0.76      0.75      0.75      8472\n",
            "         1.0       0.76      0.77      0.76      8584\n",
            "\n",
            "    accuracy                           0.76     17056\n",
            "   macro avg       0.76      0.76      0.76     17056\n",
            "weighted avg       0.76      0.76      0.76     17056\n",
            "\n"
          ],
          "name": "stdout"
        }
      ]
    },
    {
      "cell_type": "code",
      "metadata": {
        "colab": {
          "base_uri": "https://localhost:8080/"
        },
        "id": "7rtxJvKSMqZL",
        "outputId": "5bed2f51-58dc-45f8-da14-2dfbe56ce5b7"
      },
      "source": [
        "#World\n",
        "\n",
        "#MEAN\n",
        "pred_ensebmle=[]\n",
        "for i in range(len(Wor_prob_mlp_1)):\n",
        "  val=max(Wor_prob_mlp_1[i][0],Wor_prob_mlp_2[i][0])\n",
        "  if (val>=0.5):\n",
        "    pred_ensebmle.append(0)\n",
        "  else:\n",
        "    pred_ensebmle.append(1)\n",
        "pred_ensebmle=np.array(pred_ensebmle)\n",
        "\n",
        "\n",
        "cm = confusion_matrix(Test_labels, pred_ensebmle)\n",
        "cm = cm.astype('float') / cm.sum(axis=1)[:, np.newaxis]\n",
        "print(cm.diagonal())\n",
        "print(classification_report(Test_labels, pred_ensebmle))"
      ],
      "execution_count": 35,
      "outputs": [
        {
          "output_type": "stream",
          "text": [
            "[0.77655807 0.74743709]\n",
            "              precision    recall  f1-score   support\n",
            "\n",
            "         0.0       0.75      0.78      0.76      8472\n",
            "         1.0       0.77      0.75      0.76      8584\n",
            "\n",
            "    accuracy                           0.76     17056\n",
            "   macro avg       0.76      0.76      0.76     17056\n",
            "weighted avg       0.76      0.76      0.76     17056\n",
            "\n"
          ],
          "name": "stdout"
        }
      ]
    },
    {
      "cell_type": "code",
      "metadata": {
        "colab": {
          "base_uri": "https://localhost:8080/"
        },
        "id": "NInTTa-lM1GB",
        "outputId": "f5abc009-c779-4296-b75e-194ba39b8eae"
      },
      "source": [
        "#world\n",
        "\n",
        "#MEAN\n",
        "pred_ensebmle=[]\n",
        "for i in range(len(Wor_prob_mlp_1)):\n",
        "  val=min(Wor_prob_mlp_1[i][0],Wor_prob_mlp_2[i][0])\n",
        "  if (val>=0.5):\n",
        "    pred_ensebmle.append(0)\n",
        "  else:\n",
        "    pred_ensebmle.append(1)\n",
        "pred_ensebmle=np.array(pred_ensebmle)\n",
        "\n",
        "\n",
        "cm = confusion_matrix(Test_labels, pred_ensebmle)\n",
        "cm = cm.astype('float') / cm.sum(axis=1)[:, np.newaxis]\n",
        "print(cm.diagonal())\n",
        "print(classification_report(Test_labels, pred_ensebmle))"
      ],
      "execution_count": 36,
      "outputs": [
        {
          "output_type": "stream",
          "text": [
            "[0.72403211 0.79077353]\n",
            "              precision    recall  f1-score   support\n",
            "\n",
            "         0.0       0.77      0.72      0.75      8472\n",
            "         1.0       0.74      0.79      0.77      8584\n",
            "\n",
            "    accuracy                           0.76     17056\n",
            "   macro avg       0.76      0.76      0.76     17056\n",
            "weighted avg       0.76      0.76      0.76     17056\n",
            "\n"
          ],
          "name": "stdout"
        }
      ]
    },
    {
      "cell_type": "code",
      "metadata": {
        "colab": {
          "base_uri": "https://localhost:8080/"
        },
        "id": "pL98XVi-M9ml",
        "outputId": "119e9cab-0f66-470c-cdf4-2739e6ae993a"
      },
      "source": [
        "#Weighted\n",
        "\n",
        "def inv(x):\n",
        "  if (x>=0.5):\n",
        "    return x\n",
        "  else:\n",
        "    return 1-x\n",
        "\n",
        "\n",
        "pred_ensebmle=[]\n",
        "for i in range(len(Wor_prob_mlp_1)):\n",
        "  val1=inv(Wor_prob_mlp_1[i][0])\n",
        "  val2=inv(Wor_prob_mlp_2[i][0])\n",
        "  par=val1+val2\n",
        "  w1=val1/par\n",
        "  w2=val2/par\n",
        "  val=(w1*Wor_prob_mlp_1[i][0]+w2*Wor_prob_mlp_2[i][0])\n",
        "  if (val>=0.5):\n",
        "    pred_ensebmle.append(0)\n",
        "  else:\n",
        "    pred_ensebmle.append(1)\n",
        "pred_ensebmle=np.array(pred_ensebmle)\n",
        "\n",
        "\n",
        "cm = confusion_matrix(Test_labels, pred_ensebmle)\n",
        "cm = cm.astype('float') / cm.sum(axis=1)[:, np.newaxis]\n",
        "print(cm.diagonal())\n",
        "print(classification_report(Test_labels, pred_ensebmle))"
      ],
      "execution_count": 38,
      "outputs": [
        {
          "output_type": "stream",
          "text": [
            "[0.74716714 0.77003728]\n",
            "              precision    recall  f1-score   support\n",
            "\n",
            "         0.0       0.76      0.75      0.75      8472\n",
            "         1.0       0.76      0.77      0.76      8584\n",
            "\n",
            "    accuracy                           0.76     17056\n",
            "   macro avg       0.76      0.76      0.76     17056\n",
            "weighted avg       0.76      0.76      0.76     17056\n",
            "\n"
          ],
          "name": "stdout"
        }
      ]
    },
    {
      "cell_type": "code",
      "metadata": {
        "colab": {
          "base_uri": "https://localhost:8080/"
        },
        "id": "VyrtY32iNp9P",
        "outputId": "6742a46b-3350-402c-d00f-f6daba539ab4"
      },
      "source": [
        "#World\n",
        "\n",
        "#MEAN\n",
        "pred_ensebmle=[]\n",
        "for i in range(len(Wor_prob_cnn_1)):\n",
        "  val=(Wor_prob_cnn_1[i][0]+Wor_prob_cnn_2[i][0])/2\n",
        "  if (val>=0.5):\n",
        "    pred_ensebmle.append(0)\n",
        "  else:\n",
        "    pred_ensebmle.append(1)\n",
        "pred_ensebmle=np.array(pred_ensebmle)\n",
        "\n",
        "\n",
        "cm = confusion_matrix(Test_labels, pred_ensebmle)\n",
        "cm = cm.astype('float') / cm.sum(axis=1)[:, np.newaxis]\n",
        "print(cm.diagonal())\n",
        "print(classification_report(Test_labels, pred_ensebmle))"
      ],
      "execution_count": 39,
      "outputs": [
        {
          "output_type": "stream",
          "text": [
            "[0.73536355 0.77691053]\n",
            "              precision    recall  f1-score   support\n",
            "\n",
            "         0.0       0.76      0.74      0.75      8472\n",
            "         1.0       0.75      0.78      0.76      8584\n",
            "\n",
            "    accuracy                           0.76     17056\n",
            "   macro avg       0.76      0.76      0.76     17056\n",
            "weighted avg       0.76      0.76      0.76     17056\n",
            "\n"
          ],
          "name": "stdout"
        }
      ]
    },
    {
      "cell_type": "code",
      "metadata": {
        "colab": {
          "base_uri": "https://localhost:8080/"
        },
        "id": "JWM3XxRnNyIT",
        "outputId": "62d09706-1a8f-4811-a54b-854218f5bb43"
      },
      "source": [
        "#World\n",
        "\n",
        "#MAX\n",
        "pred_ensebmle=[]\n",
        "for i in range(len(Wor_prob_cnn_1)):\n",
        "  val=max(Wor_prob_cnn_1[i][0],Wor_prob_cnn_2[i][0])\n",
        "  if (val>=0.5):\n",
        "    pred_ensebmle.append(0)\n",
        "  else:\n",
        "    pred_ensebmle.append(1)\n",
        "pred_ensebmle=np.array(pred_ensebmle)\n",
        "\n",
        "\n",
        "cm = confusion_matrix(Test_labels, pred_ensebmle)\n",
        "cm = cm.astype('float') / cm.sum(axis=1)[:, np.newaxis]\n",
        "print(cm.diagonal())\n",
        "print(classification_report(Test_labels, pred_ensebmle))"
      ],
      "execution_count": 41,
      "outputs": [
        {
          "output_type": "stream",
          "text": [
            "[0.76180359 0.75454334]\n",
            "              precision    recall  f1-score   support\n",
            "\n",
            "         0.0       0.75      0.76      0.76      8472\n",
            "         1.0       0.76      0.75      0.76      8584\n",
            "\n",
            "    accuracy                           0.76     17056\n",
            "   macro avg       0.76      0.76      0.76     17056\n",
            "weighted avg       0.76      0.76      0.76     17056\n",
            "\n"
          ],
          "name": "stdout"
        }
      ]
    },
    {
      "cell_type": "code",
      "metadata": {
        "colab": {
          "base_uri": "https://localhost:8080/"
        },
        "id": "ccW5gwhNN4xj",
        "outputId": "57d42f55-c4a1-40bc-c374-94d01d937e92"
      },
      "source": [
        "#World\n",
        "\n",
        "#MAX\n",
        "pred_ensebmle=[]\n",
        "for i in range(len(Wor_prob_cnn_1)):\n",
        "  val=min(Wor_prob_cnn_1[i][0],Wor_prob_cnn_2[i][0])\n",
        "  if (val>=0.5):\n",
        "    pred_ensebmle.append(0)\n",
        "  else:\n",
        "    pred_ensebmle.append(1)\n",
        "pred_ensebmle=np.array(pred_ensebmle)\n",
        "\n",
        "\n",
        "cm = confusion_matrix(Test_labels, pred_ensebmle)\n",
        "cm = cm.astype('float') / cm.sum(axis=1)[:, np.newaxis]\n",
        "print(cm.diagonal())\n",
        "print(classification_report(Test_labels, pred_ensebmle))"
      ],
      "execution_count": 42,
      "outputs": [
        {
          "output_type": "stream",
          "text": [
            "[0.70408404 0.80207363]\n",
            "              precision    recall  f1-score   support\n",
            "\n",
            "         0.0       0.78      0.70      0.74      8472\n",
            "         1.0       0.73      0.80      0.77      8584\n",
            "\n",
            "    accuracy                           0.75     17056\n",
            "   macro avg       0.76      0.75      0.75     17056\n",
            "weighted avg       0.76      0.75      0.75     17056\n",
            "\n"
          ],
          "name": "stdout"
        }
      ]
    },
    {
      "cell_type": "code",
      "metadata": {
        "colab": {
          "base_uri": "https://localhost:8080/"
        },
        "id": "4Jeny5B8N8xK",
        "outputId": "0eaffad1-700f-4b1a-83d9-79dcb3ac3e56"
      },
      "source": [
        "#Weighted\n",
        "\n",
        "def inv(x):\n",
        "  if (x>=0.5):\n",
        "    return x\n",
        "  else:\n",
        "    return 1-x\n",
        "\n",
        "\n",
        "pred_ensebmle=[]\n",
        "for i in range(len(Wor_prob_cnn_1)):\n",
        "  val1=inv(Wor_prob_cnn_1[i][0])\n",
        "  val2=inv(Wor_prob_cnn_2[i][0])\n",
        "  par=val1+val2\n",
        "  w1=val1/par\n",
        "  w2=val2/par\n",
        "  val=(w1*Wor_prob_cnn_1[i][0]+w2*Wor_prob_cnn_2[i][0])\n",
        "  if (val>=0.5):\n",
        "    pred_ensebmle.append(0)\n",
        "  else:\n",
        "    pred_ensebmle.append(1)\n",
        "pred_ensebmle=np.array(pred_ensebmle)\n",
        "\n",
        "\n",
        "cm = confusion_matrix(Test_labels, pred_ensebmle)\n",
        "cm = cm.astype('float') / cm.sum(axis=1)[:, np.newaxis]\n",
        "print(cm.diagonal())\n",
        "print(classification_report(Test_labels, pred_ensebmle))"
      ],
      "execution_count": 43,
      "outputs": [
        {
          "output_type": "stream",
          "text": [
            "[0.73536355 0.77691053]\n",
            "              precision    recall  f1-score   support\n",
            "\n",
            "         0.0       0.76      0.74      0.75      8472\n",
            "         1.0       0.75      0.78      0.76      8584\n",
            "\n",
            "    accuracy                           0.76     17056\n",
            "   macro avg       0.76      0.76      0.76     17056\n",
            "weighted avg       0.76      0.76      0.76     17056\n",
            "\n"
          ],
          "name": "stdout"
        }
      ]
    }
  ]
}