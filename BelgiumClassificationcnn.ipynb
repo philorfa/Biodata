{
  "nbformat": 4,
  "nbformat_minor": 0,
  "metadata": {
    "colab": {
      "name": "BelgiumClassificationcnn.ipynb",
      "provenance": [],
      "collapsed_sections": [],
      "mount_file_id": "1LSaeR7OfO-7FM9GjS6sBVeoxMYwdH8FP",
      "authorship_tag": "ABX9TyN9RRJT56QDdIDh/eJnXy6k",
      "include_colab_link": true
    },
    "kernelspec": {
      "name": "python3",
      "display_name": "Python 3"
    },
    "language_info": {
      "name": "python"
    },
    "accelerator": "GPU"
  },
  "cells": [
    {
      "cell_type": "markdown",
      "metadata": {
        "id": "view-in-github",
        "colab_type": "text"
      },
      "source": [
        "<a href=\"https://colab.research.google.com/github/philorfa/Biodata/blob/main/BelgiumClassificationcnn.ipynb\" target=\"_parent\"><img src=\"https://colab.research.google.com/assets/colab-badge.svg\" alt=\"Open In Colab\"/></a>"
      ]
    },
    {
      "cell_type": "code",
      "metadata": {
        "colab": {
          "base_uri": "https://localhost:8080/"
        },
        "id": "dYT6X4c2l_km",
        "cellView": "form",
        "outputId": "e00f3867-7e5b-42e7-b466-f9eb97e144c9"
      },
      "source": [
        "#@title\n",
        "from __future__ import absolute_import, division, print_function, unicode_literals # legacy compatibility\n",
        "\n",
        "import tensorflow as tf\n",
        "from tensorflow.keras import datasets, layers, models\n",
        "from tensorflow.keras.preprocessing.image import ImageDataGenerator\n",
        "from tensorflow.keras.utils import to_categorical\n",
        "from time import time\n",
        "import numpy as np\n",
        "import pandas as pd\n",
        "import matplotlib.pyplot as plt\n",
        "from scipy import ndarray\n",
        "import skimage as sk\n",
        "from skimage import transform\n",
        "from skimage import util\n",
        "#@title\n",
        "!pip install --upgrade pyswarm\n",
        "!pip install pymc3\n",
        "!pip install --upgrade pactools\n",
        "\n",
        "from sklearn.model_selection import train_test_split\n",
        "from pyswarm import pso\n",
        "from os import path\n",
        "import os\n",
        "import requests\n",
        "os.environ['TF_CPP_MIN_LOG_LEVEL'] = '2' \n",
        "import numpy\n",
        "import sys\n",
        "import numpy as np\n",
        "from numpy import loadtxt\n",
        "from numpy import array\n",
        "from numpy.random import choice\n",
        "import pandas as pd\n",
        "import time\n",
        "import random\n",
        "import statistics\n",
        "import pandas\n",
        "import math\n",
        "import csv\n",
        "import random\n",
        "import logging\n",
        "from pymc3 import *\n",
        "import pymc3 as pm\n",
        "from functools import reduce\n",
        "from operator import add\n",
        "from tqdm import tqdm\n",
        "import geopy.distance\n",
        "from scipy import stats\n",
        "import matplotlib.pyplot as plt\n",
        "import seaborn as sns\n",
        "from theano import shared\n",
        "from sklearn import preprocessing\n",
        "print('Running on PyMC3 v{}'.format(pm.__version__))\n",
        "from sklearn.preprocessing import MinMaxScaler\n",
        "from sklearn.metrics import mean_squared_error\n",
        "from sklearn.metrics import mean_absolute_error\n",
        "from sklearn.model_selection import train_test_split\n",
        "from tensorflow.keras.models import Sequential\n",
        "from tensorflow.keras.layers import Dense\n",
        "from tensorflow.keras.layers import Dropout\n",
        "from tensorflow.keras.layers import LSTM\n",
        "from tensorflow.keras.layers import Conv1D\n",
        "from tensorflow.keras.layers import Flatten\n",
        "from tensorflow.keras.layers import Activation\n",
        "from tensorflow.keras.callbacks import EarlyStopping\n",
        "from tensorflow.keras import layers\n",
        "from tensorflow import keras\n",
        "import tensorflow\n",
        "from tensorflow.keras import datasets, layers, models\n",
        "from keras.utils import np_utils\n",
        "\n",
        "import numpy as np\n",
        "import matplotlib.pyplot as plt\n",
        "import pandas as pd\n",
        "from matplotlib.ticker import MaxNLocator\n",
        "\n",
        "#TESNORFOW\n",
        "import tensorflow as tf\n",
        "from tensorflow import keras\n",
        "from keras import datasets, layers, models\n",
        "#KERAS LIBRARIES\n",
        "from keras.preprocessing.text import Tokenizer\n",
        "from keras.models import Sequential,Model\n",
        "from keras.layers import Dense, Dropout , Flatten,BatchNormalization,Conv2D,MaxPooling2D, Activation,LSTM,Embedding,Input,GlobalAveragePooling2D\n",
        "from keras.regularizers import l1, l2, l1_l2\n",
        "from keras.callbacks import EarlyStopping, ModelCheckpoint,ReduceLROnPlateau\n",
        "from keras import backend \n",
        "from keras.utils import np_utils\n",
        "\n",
        "from numpy import savetxt\n"
      ],
      "execution_count": 15,
      "outputs": [
        {
          "output_type": "stream",
          "text": [
            "Requirement already up-to-date: pyswarm in /usr/local/lib/python3.7/dist-packages (0.6)\n",
            "Requirement already satisfied, skipping upgrade: numpy in /usr/local/lib/python3.7/dist-packages (from pyswarm) (1.19.5)\n",
            "Requirement already satisfied: pymc3 in /usr/local/lib/python3.7/dist-packages (3.11.2)\n",
            "Requirement already satisfied: pandas>=0.24.0 in /usr/local/lib/python3.7/dist-packages (from pymc3) (1.1.5)\n",
            "Requirement already satisfied: arviz>=0.11.0 in /usr/local/lib/python3.7/dist-packages (from pymc3) (0.11.2)\n",
            "Requirement already satisfied: patsy>=0.5.1 in /usr/local/lib/python3.7/dist-packages (from pymc3) (0.5.1)\n",
            "Requirement already satisfied: fastprogress>=0.2.0 in /usr/local/lib/python3.7/dist-packages (from pymc3) (1.0.0)\n",
            "Requirement already satisfied: dill in /usr/local/lib/python3.7/dist-packages (from pymc3) (0.3.4)\n",
            "Requirement already satisfied: numpy>=1.15.0 in /usr/local/lib/python3.7/dist-packages (from pymc3) (1.19.5)\n",
            "Requirement already satisfied: theano-pymc==1.1.2 in /usr/local/lib/python3.7/dist-packages (from pymc3) (1.1.2)\n",
            "Requirement already satisfied: scipy>=1.2.0 in /usr/local/lib/python3.7/dist-packages (from pymc3) (1.4.1)\n",
            "Requirement already satisfied: typing-extensions>=3.7.4 in /usr/local/lib/python3.7/dist-packages (from pymc3) (3.7.4.3)\n",
            "Requirement already satisfied: semver in /usr/local/lib/python3.7/dist-packages (from pymc3) (2.13.0)\n",
            "Requirement already satisfied: cachetools>=4.2.1 in /usr/local/lib/python3.7/dist-packages (from pymc3) (4.2.2)\n",
            "Requirement already satisfied: python-dateutil>=2.7.3 in /usr/local/lib/python3.7/dist-packages (from pandas>=0.24.0->pymc3) (2.8.1)\n",
            "Requirement already satisfied: pytz>=2017.2 in /usr/local/lib/python3.7/dist-packages (from pandas>=0.24.0->pymc3) (2018.9)\n",
            "Requirement already satisfied: setuptools>=38.4 in /usr/local/lib/python3.7/dist-packages (from arviz>=0.11.0->pymc3) (57.0.0)\n",
            "Requirement already satisfied: matplotlib>=3.0 in /usr/local/lib/python3.7/dist-packages (from arviz>=0.11.0->pymc3) (3.2.2)\n",
            "Requirement already satisfied: xarray>=0.16.1 in /usr/local/lib/python3.7/dist-packages (from arviz>=0.11.0->pymc3) (0.18.2)\n",
            "Requirement already satisfied: packaging in /usr/local/lib/python3.7/dist-packages (from arviz>=0.11.0->pymc3) (20.9)\n",
            "Requirement already satisfied: netcdf4 in /usr/local/lib/python3.7/dist-packages (from arviz>=0.11.0->pymc3) (1.5.6)\n",
            "Requirement already satisfied: six in /usr/local/lib/python3.7/dist-packages (from patsy>=0.5.1->pymc3) (1.15.0)\n",
            "Requirement already satisfied: filelock in /usr/local/lib/python3.7/dist-packages (from theano-pymc==1.1.2->pymc3) (3.0.12)\n",
            "Requirement already satisfied: pyparsing!=2.0.4,!=2.1.2,!=2.1.6,>=2.0.1 in /usr/local/lib/python3.7/dist-packages (from matplotlib>=3.0->arviz>=0.11.0->pymc3) (2.4.7)\n",
            "Requirement already satisfied: kiwisolver>=1.0.1 in /usr/local/lib/python3.7/dist-packages (from matplotlib>=3.0->arviz>=0.11.0->pymc3) (1.3.1)\n",
            "Requirement already satisfied: cycler>=0.10 in /usr/local/lib/python3.7/dist-packages (from matplotlib>=3.0->arviz>=0.11.0->pymc3) (0.10.0)\n",
            "Requirement already satisfied: cftime in /usr/local/lib/python3.7/dist-packages (from netcdf4->arviz>=0.11.0->pymc3) (1.5.0)\n",
            "Requirement already up-to-date: pactools in /usr/local/lib/python3.7/dist-packages (0.3.1)\n",
            "Requirement already satisfied, skipping upgrade: scipy in /usr/local/lib/python3.7/dist-packages (from pactools) (1.4.1)\n",
            "Requirement already satisfied, skipping upgrade: mne in /usr/local/lib/python3.7/dist-packages (from pactools) (0.23.0)\n",
            "Requirement already satisfied, skipping upgrade: h5py in /usr/local/lib/python3.7/dist-packages (from pactools) (3.1.0)\n",
            "Requirement already satisfied, skipping upgrade: numpy in /usr/local/lib/python3.7/dist-packages (from pactools) (1.19.5)\n",
            "Requirement already satisfied, skipping upgrade: scikit-learn in /usr/local/lib/python3.7/dist-packages (from pactools) (0.22.2.post1)\n",
            "Requirement already satisfied, skipping upgrade: matplotlib in /usr/local/lib/python3.7/dist-packages (from pactools) (3.2.2)\n",
            "Requirement already satisfied, skipping upgrade: cached-property; python_version < \"3.8\" in /usr/local/lib/python3.7/dist-packages (from h5py->pactools) (1.5.2)\n",
            "Requirement already satisfied, skipping upgrade: joblib>=0.11 in /usr/local/lib/python3.7/dist-packages (from scikit-learn->pactools) (1.0.1)\n",
            "Requirement already satisfied, skipping upgrade: cycler>=0.10 in /usr/local/lib/python3.7/dist-packages (from matplotlib->pactools) (0.10.0)\n",
            "Requirement already satisfied, skipping upgrade: kiwisolver>=1.0.1 in /usr/local/lib/python3.7/dist-packages (from matplotlib->pactools) (1.3.1)\n",
            "Requirement already satisfied, skipping upgrade: python-dateutil>=2.1 in /usr/local/lib/python3.7/dist-packages (from matplotlib->pactools) (2.8.1)\n",
            "Requirement already satisfied, skipping upgrade: pyparsing!=2.0.4,!=2.1.2,!=2.1.6,>=2.0.1 in /usr/local/lib/python3.7/dist-packages (from matplotlib->pactools) (2.4.7)\n",
            "Requirement already satisfied, skipping upgrade: six in /usr/local/lib/python3.7/dist-packages (from cycler>=0.10->matplotlib->pactools) (1.15.0)\n",
            "Running on PyMC3 v3.11.2\n"
          ],
          "name": "stdout"
        }
      ]
    },
    {
      "cell_type": "code",
      "metadata": {
        "id": "Q5n0V_eAmZRj"
      },
      "source": [
        "X= pd.read_csv('/content/drive/MyDrive/Biodata/Datas/Belgium/X_train_Bel.csv')\n",
        "X=X.drop(['Unnamed: 0'],axis=1)\n",
        "y = pd.read_csv('/content/drive/MyDrive/Biodata/Datas/Belgium/y_train_Bel.csv')\n",
        "y=y.drop(['Unnamed: 0'],axis=1)\n",
        "\n",
        "Test_data = pd.read_csv('/content/drive/MyDrive/Biodata/Datas/Belgium/X_test_Bel.csv')\n",
        "Test_data = Test_data.drop(['Unnamed: 0'],axis=1)\n",
        "\n",
        "Test_labels = pd.read_csv('/content/drive/MyDrive/Biodata/Datas/Belgium/y_test_Bel.csv')\n",
        "Test_labels = Test_labels.drop(['Unnamed: 0'],axis=1)\n"
      ],
      "execution_count": 29,
      "outputs": []
    },
    {
      "cell_type": "code",
      "metadata": {
        "colab": {
          "base_uri": "https://localhost:8080/"
        },
        "id": "mz5yKkoRm3uL",
        "outputId": "d2178214-1157-49b6-f311-17f5d9f1465b"
      },
      "source": [
        "print(\"Shape X_train:\", X.shape)\n",
        "print(\"Shape y_train:\", y.shape)\n",
        "\n",
        "print(\"Shape X_test:\", Test_data.shape)\n",
        "print(\"Shape y_test:\", Test_labels.shape)"
      ],
      "execution_count": 30,
      "outputs": [
        {
          "output_type": "stream",
          "text": [
            "Shape X_train: (16469, 64)\n",
            "Shape y_train: (16469,)\n",
            "Shape X_test: (4118, 64)\n",
            "Shape y_test: (4118, 1)\n"
          ],
          "name": "stdout"
        }
      ]
    },
    {
      "cell_type": "code",
      "metadata": {
        "id": "_gffYozRvk24"
      },
      "source": [
        "for i in range(len(y)):\n",
        "  if (y['Depression_Score'][i]<=7.0):\n",
        "    y['Depression_Score'][i]=0\n",
        "  elif (y['Depression_Score'][i]<=12.0):\n",
        "    y['Depression_Score'][i]=1\n",
        "  else:\n",
        "    y['Depression_Score'][i]=2\n",
        "\n",
        "\n",
        "for i in range(len(Test_labels)):\n",
        "  if (Test_labels['Depression_Score'][i]<=7.0):\n",
        "    Test_labels['Depression_Score'][i]=0\n",
        "  elif (Test_labels['Depression_Score'][i]<=12.0):\n",
        "    Test_labels['Depression_Score'][i]=1\n",
        "  else:\n",
        "    Test_labels['Depression_Score'][i]=2"
      ],
      "execution_count": 18,
      "outputs": []
    },
    {
      "cell_type": "code",
      "metadata": {
        "id": "KnvT60LUn9Nr"
      },
      "source": [
        "X_train, X_test, y_train, y_test = train_test_split(X, y['Depression_Score'], test_size=0.2, random_state=42)"
      ],
      "execution_count": 19,
      "outputs": []
    },
    {
      "cell_type": "code",
      "metadata": {
        "id": "va1yoP3xoQSL",
        "colab": {
          "base_uri": "https://localhost:8080/",
          "height": 69
        },
        "outputId": "acc287fb-87c7-4ab3-c269-6b73175bbd10"
      },
      "source": [
        "'''\n",
        "X_train.to_csv('/content/drive/MyDrive/Biodata/Datas/World/X_train_Wor.csv')\n",
        "y_train.to_csv('/content/drive/MyDrive/Biodata/Datas/World/y_train_Wor.csv')\n",
        "\n",
        "X_test.to_csv('/content/drive/MyDrive/Biodata/Datas/World/X_test_Wor.csv')\n",
        "y_test.to_csv('/content/drive/MyDrive/Biodata/Datas/World/y_test_Wor.csv')\n",
        "'''"
      ],
      "execution_count": 20,
      "outputs": [
        {
          "output_type": "execute_result",
          "data": {
            "application/vnd.google.colaboratory.intrinsic+json": {
              "type": "string"
            },
            "text/plain": [
              "\"\\nX_train.to_csv('/content/drive/MyDrive/Biodata/Datas/World/X_train_Wor.csv')\\ny_train.to_csv('/content/drive/MyDrive/Biodata/Datas/World/y_train_Wor.csv')\\n\\nX_test.to_csv('/content/drive/MyDrive/Biodata/Datas/World/X_test_Wor.csv')\\ny_test.to_csv('/content/drive/MyDrive/Biodata/Datas/World/y_test_Wor.csv')\\n\""
            ]
          },
          "metadata": {
            "tags": []
          },
          "execution_count": 20
        }
      ]
    },
    {
      "cell_type": "code",
      "metadata": {
        "colab": {
          "base_uri": "https://localhost:8080/"
        },
        "id": "h4JejMbtRur7",
        "outputId": "0508f99b-d3e0-4dae-c517-f59d72a4cfaa"
      },
      "source": [
        "img_rows, img_cols = 8,8\n",
        "\n",
        "X_train_cnn=np.array(X_train)\n",
        "X_test_cnn=np.array(X_test)\n",
        "\n",
        "X_train_cnn = X_train_cnn.reshape(X_train.shape[0], img_rows, img_cols, 1)\n",
        "X_test_cnn = X_test_cnn.reshape(X_test.shape[0], img_rows, img_cols, 1)\n",
        "input_shape = (img_rows, img_cols, 1)\n",
        "\n",
        "X_train_cnn = X_train_cnn.astype('float32')\n",
        "X_test_cnn = X_test_cnn.astype('float32')\n",
        "\n",
        "print('x_train shape:', X_train_cnn.shape)\n",
        "print(X_train_cnn.shape[0], 'train samples')\n",
        "print(X_test_cnn.shape[0], 'test samples')"
      ],
      "execution_count": 21,
      "outputs": [
        {
          "output_type": "stream",
          "text": [
            "x_train shape: (13175, 8, 8, 1)\n",
            "13175 train samples\n",
            "3294 test samples\n"
          ],
          "name": "stdout"
        }
      ]
    },
    {
      "cell_type": "code",
      "metadata": {
        "id": "lbLwVtv1nnXO"
      },
      "source": [
        "EarlyStopper = EarlyStopping(patience=20, monitor='val_accuracy', mode='max')\n",
        "reduce_lr = ReduceLROnPlateau(monitor='val_accuracy', factor=0.6,patience=20, min_lr=0.000001)\n",
        "count=0\n",
        "max=0\n",
        "lb=[0,0,0,0,0,0]\n",
        "ub=[0.2,0.2,0.2,0.2,3,3]"
      ],
      "execution_count": 22,
      "outputs": []
    },
    {
      "cell_type": "code",
      "metadata": {
        "id": "U66HUQvqZHAS"
      },
      "source": [
        "def create_model(x):\n",
        "  print(x[0],x[1],x[2],x[3],x[4],x[5])\n",
        "  model = Sequential()\n",
        "  model.add(Conv2D(64, (3, 3), activation='relu', input_shape = input_shape))\n",
        "  model.add(Conv2D(128, (3, 3), activation='relu'))\n",
        "  model.add(MaxPooling2D(pool_size=(2, 2)))\n",
        "\n",
        "  model.add(Flatten())\n",
        "  model.add(Dense(512, activation='relu'))\n",
        "  model.add(Dropout(x[0]))\n",
        "  if (x[4]<=1):\n",
        "    model.add(Dense(256, activation='relu'))\n",
        "    model.add(Dropout(x[1]))\n",
        "    model.add(Dense(128, activation='relu'))\n",
        "    model.add(Dropout(x[2]))\n",
        "    model.add(Dense(64, activation='relu'))\n",
        "    model.add(Dropout(x[3]))\n",
        "    model.add(Dense(32, activation='relu'))\n",
        "    model.add(Dropout(0.2))\n",
        "    model.add(Dense(16, activation='relu'))\n",
        "    model.add(Dropout(0.2))\n",
        "    model.add(Dense(8, activation='relu'))\n",
        "    model.add(Dropout(0.2))\n",
        "  elif (x[4]<=2):\n",
        "    model.add(Dense(256, activation='relu'))\n",
        "    model.add(Dropout(x[1]))\n",
        "    model.add(Dense(128, activation='relu'))\n",
        "    model.add(Dropout(x[2]))\n",
        "    model.add(Dense(64, activation='relu'))\n",
        "    model.add(Dropout(x[3]))\n",
        "    model.add(Dense(8, activation='relu'))\n",
        "    model.add(Dropout(0.2))\n",
        "  else:\n",
        "    model.add(Dense(256, activation='relu'))\n",
        "    model.add(Dropout(x[1]))\n",
        "    model.add(Dense(64, activation='relu'))\n",
        "    model.add(Dropout(x[3]))\n",
        "    model.add(Dense(4, activation='relu'))\n",
        "    model.add(Dropout(0.2))\n",
        "\n",
        "\n",
        "  model.add(keras.layers.Dense(3,activation=\"softmax\"))\n",
        "  model.compile(loss=tf.keras.losses.sparse_categorical_crossentropy, optimizer='adam', metrics=[\"accuracy\"])\n",
        "  \n",
        "  return model"
      ],
      "execution_count": 23,
      "outputs": []
    },
    {
      "cell_type": "code",
      "metadata": {
        "id": "uYPCYySGnzvg"
      },
      "source": [
        "def apple(x):\n",
        "  global max\n",
        "  model = create_model(x)\n",
        "  if (x[5]<1):\n",
        "    model.fit(X_train_cnn, y_train, epochs=10, batch_size=3000, verbose=1,validation_data=(X_test_cnn, y_test),callbacks=[reduce_lr])\n",
        "    loss, acc = model.evaluate(X_test_cnn, y_test, verbose=1)\n",
        "  elif (x[5]<2):\n",
        "    model.fit(X_train_cnn, y_train, epochs=10, batch_size=1000, verbose=1,validation_data=(X_test_cnn, y_test),callbacks=[reduce_lr])\n",
        "    loss, acc = model.evaluate(X_test_cnn, y_test, verbose=1)\n",
        "  else:\n",
        "    model.fit(X_train_cnn, y_train, epochs=10, batch_size=500, verbose=1,validation_data=(X_test_cnn, y_test),callbacks=[reduce_lr])\n",
        "    loss, acc = model.evaluate(X_test_cnn, y_test, verbose=1)\n",
        "  if acc>0.59:\n",
        "    global count \n",
        "    count = count+1\n",
        "    model.save(f\"/content/drive/MyDrive/Biodata/Datas/Belgium/Models_class/model_cnn-{count}-{round(acc, 3)}-{round(loss, 3)}\")\n",
        "    savetxt(f\"/content/drive/MyDrive/Biodata/Datas/Belgium/Models_class/data_cnn-{count}.csv\", x, delimiter=',')\n",
        "  return 1/(1+acc)"
      ],
      "execution_count": 26,
      "outputs": []
    },
    {
      "cell_type": "code",
      "metadata": {
        "colab": {
          "base_uri": "https://localhost:8080/",
          "height": 1000
        },
        "id": "BleSAbDasWjx",
        "outputId": "373c5d77-c087-45a5-a9e8-a77203c8b2e9"
      },
      "source": [
        "xopt, fopt = pso(apple, lb, ub, swarmsize=10, omega=0.5, phip=0.5, phig=1.0, maxiter=30, minstep=1)"
      ],
      "execution_count": 27,
      "outputs": [
        {
          "output_type": "stream",
          "text": [
            "0.021907005642980006 0.13144648732490563 0.025417763166880093 0.1254072220326556 2.9690362348223855 2.1018263231588175\n",
            "Epoch 1/10\n",
            "27/27 [==============================] - 4s 121ms/step - loss: 1.1005 - accuracy: 0.3721 - val_loss: 1.0047 - val_accuracy: 0.4927\n",
            "Epoch 2/10\n",
            "27/27 [==============================] - 3s 104ms/step - loss: 1.0201 - accuracy: 0.4650 - val_loss: 0.9723 - val_accuracy: 0.4879\n",
            "Epoch 3/10\n",
            "27/27 [==============================] - 3s 103ms/step - loss: 1.0066 - accuracy: 0.4643 - val_loss: 0.9598 - val_accuracy: 0.4964\n",
            "Epoch 4/10\n",
            "27/27 [==============================] - 3s 103ms/step - loss: 0.9887 - accuracy: 0.4736 - val_loss: 0.9595 - val_accuracy: 0.4985\n",
            "Epoch 5/10\n",
            "27/27 [==============================] - 3s 103ms/step - loss: 0.9890 - accuracy: 0.4688 - val_loss: 0.9530 - val_accuracy: 0.4988\n",
            "Epoch 6/10\n",
            "27/27 [==============================] - 3s 102ms/step - loss: 0.9753 - accuracy: 0.4747 - val_loss: 0.9817 - val_accuracy: 0.4936\n",
            "Epoch 7/10\n",
            "27/27 [==============================] - 3s 102ms/step - loss: 0.9750 - accuracy: 0.4664 - val_loss: 0.9254 - val_accuracy: 0.4839\n",
            "Epoch 8/10\n",
            "27/27 [==============================] - 3s 102ms/step - loss: 0.9605 - accuracy: 0.4718 - val_loss: 0.9151 - val_accuracy: 0.4839\n",
            "Epoch 9/10\n",
            "27/27 [==============================] - 3s 103ms/step - loss: 0.9398 - accuracy: 0.4756 - val_loss: 0.8390 - val_accuracy: 0.5789\n",
            "Epoch 10/10\n",
            "27/27 [==============================] - 3s 102ms/step - loss: 0.9025 - accuracy: 0.5323 - val_loss: 0.8427 - val_accuracy: 0.5923\n",
            "103/103 [==============================] - 0s 3ms/step - loss: 0.8427 - accuracy: 0.5923\n"
          ],
          "name": "stdout"
        },
        {
          "output_type": "stream",
          "text": [
            "WARNING:absl:Found untraced functions such as dense_14_layer_call_and_return_conditional_losses, dense_14_layer_call_fn, dense_14_layer_call_fn, dense_14_layer_call_and_return_conditional_losses, dense_14_layer_call_and_return_conditional_losses while saving (showing 5 of 5). These functions will not be directly callable after loading.\n"
          ],
          "name": "stderr"
        },
        {
          "output_type": "stream",
          "text": [
            "INFO:tensorflow:Assets written to: /content/drive/MyDrive/Biodata/Datas/Belgium/Models_class/model_cnn-1-0.592-0.843/assets\n"
          ],
          "name": "stdout"
        },
        {
          "output_type": "stream",
          "text": [
            "INFO:tensorflow:Assets written to: /content/drive/MyDrive/Biodata/Datas/Belgium/Models_class/model_cnn-1-0.592-0.843/assets\n"
          ],
          "name": "stderr"
        },
        {
          "output_type": "stream",
          "text": [
            "0.0664072343534295 0.14984081963633109 0.13339957298735758 0.19913228912723568 1.4725995323629593 1.0093347489837234\n",
            "Epoch 1/10\n",
            "14/14 [==============================] - 4s 224ms/step - loss: 1.1273 - accuracy: 0.3556 - val_loss: 1.0807 - val_accuracy: 0.3543\n",
            "Epoch 2/10\n",
            "14/14 [==============================] - 3s 191ms/step - loss: 1.0634 - accuracy: 0.3918 - val_loss: 0.9416 - val_accuracy: 0.5143\n",
            "Epoch 3/10\n",
            "14/14 [==============================] - 3s 194ms/step - loss: 0.9514 - accuracy: 0.5005 - val_loss: 0.8702 - val_accuracy: 0.5832\n",
            "Epoch 4/10\n",
            "14/14 [==============================] - 3s 189ms/step - loss: 0.9219 - accuracy: 0.5340 - val_loss: 0.8602 - val_accuracy: 0.5801\n",
            "Epoch 5/10\n",
            "14/14 [==============================] - 3s 188ms/step - loss: 0.9048 - accuracy: 0.5521 - val_loss: 0.8469 - val_accuracy: 0.5920\n",
            "Epoch 6/10\n",
            "14/14 [==============================] - 3s 184ms/step - loss: 0.8762 - accuracy: 0.5688 - val_loss: 0.8476 - val_accuracy: 0.5920\n",
            "Epoch 7/10\n",
            "14/14 [==============================] - 3s 185ms/step - loss: 0.8835 - accuracy: 0.5624 - val_loss: 0.8308 - val_accuracy: 0.5984\n",
            "Epoch 8/10\n",
            "14/14 [==============================] - 3s 188ms/step - loss: 0.8642 - accuracy: 0.5691 - val_loss: 0.8328 - val_accuracy: 0.6047\n",
            "Epoch 9/10\n",
            "14/14 [==============================] - 3s 187ms/step - loss: 0.8617 - accuracy: 0.5696 - val_loss: 0.8348 - val_accuracy: 0.5944\n",
            "Epoch 10/10\n",
            "14/14 [==============================] - 3s 188ms/step - loss: 0.8628 - accuracy: 0.5711 - val_loss: 0.8196 - val_accuracy: 0.5911\n",
            "103/103 [==============================] - 0s 4ms/step - loss: 0.8196 - accuracy: 0.5911\n"
          ],
          "name": "stdout"
        },
        {
          "output_type": "stream",
          "text": [
            "WARNING:absl:Found untraced functions such as dense_15_layer_call_and_return_conditional_losses, dense_15_layer_call_fn, dense_15_layer_call_fn, dense_15_layer_call_and_return_conditional_losses, dense_15_layer_call_and_return_conditional_losses while saving (showing 5 of 5). These functions will not be directly callable after loading.\n"
          ],
          "name": "stderr"
        },
        {
          "output_type": "stream",
          "text": [
            "INFO:tensorflow:Assets written to: /content/drive/MyDrive/Biodata/Datas/Belgium/Models_class/model_cnn-2-0.591-0.82/assets\n"
          ],
          "name": "stdout"
        },
        {
          "output_type": "stream",
          "text": [
            "INFO:tensorflow:Assets written to: /content/drive/MyDrive/Biodata/Datas/Belgium/Models_class/model_cnn-2-0.591-0.82/assets\n"
          ],
          "name": "stderr"
        },
        {
          "output_type": "stream",
          "text": [
            "0.19947636833071147 0.14329602211053863 0.1305358048983473 0.150203434445282 2.1610028361940445 1.2595360004282323\n",
            "Epoch 1/10\n",
            "14/14 [==============================] - 4s 221ms/step - loss: 1.1154 - accuracy: 0.3424 - val_loss: 1.0979 - val_accuracy: 0.3543\n",
            "Epoch 2/10\n",
            "14/14 [==============================] - 3s 188ms/step - loss: 1.0984 - accuracy: 0.3479 - val_loss: 1.0974 - val_accuracy: 0.3467\n",
            "Epoch 3/10\n",
            "14/14 [==============================] - 3s 187ms/step - loss: 1.0971 - accuracy: 0.3514 - val_loss: 1.0969 - val_accuracy: 0.3467\n",
            "Epoch 4/10\n",
            "14/14 [==============================] - 3s 183ms/step - loss: 1.0964 - accuracy: 0.3579 - val_loss: 1.0966 - val_accuracy: 0.3467\n",
            "Epoch 5/10\n",
            "14/14 [==============================] - 3s 182ms/step - loss: 1.0958 - accuracy: 0.3573 - val_loss: 1.0964 - val_accuracy: 0.3467\n",
            "Epoch 6/10\n",
            "14/14 [==============================] - 3s 183ms/step - loss: 1.0955 - accuracy: 0.3591 - val_loss: 1.0962 - val_accuracy: 0.3467\n",
            "Epoch 7/10\n",
            "14/14 [==============================] - 3s 182ms/step - loss: 1.0954 - accuracy: 0.3539 - val_loss: 1.0961 - val_accuracy: 0.3467\n",
            "Epoch 8/10\n",
            "14/14 [==============================] - 3s 180ms/step - loss: 1.0956 - accuracy: 0.3534 - val_loss: 1.0961 - val_accuracy: 0.3467\n",
            "Epoch 9/10\n",
            "14/14 [==============================] - 3s 183ms/step - loss: 1.0947 - accuracy: 0.3535 - val_loss: 1.0960 - val_accuracy: 0.3467\n",
            "Epoch 10/10\n",
            "14/14 [==============================] - 3s 182ms/step - loss: 1.0951 - accuracy: 0.3544 - val_loss: 1.0960 - val_accuracy: 0.3467\n",
            "103/103 [==============================] - 0s 3ms/step - loss: 1.0960 - accuracy: 0.3467\n",
            "0.04832565668153817 0.04861492056999433 0.08002504205255695 0.03517937974886409 2.973393543765462 0.9591680162402623\n",
            "Epoch 1/10\n",
            "5/5 [==============================] - 4s 588ms/step - loss: 1.1737 - accuracy: 0.3255 - val_loss: 1.0985 - val_accuracy: 0.3467\n",
            "Epoch 2/10\n",
            "5/5 [==============================] - 2s 476ms/step - loss: 1.0988 - accuracy: 0.3561 - val_loss: 1.0984 - val_accuracy: 0.3467\n",
            "Epoch 3/10\n",
            "5/5 [==============================] - 2s 473ms/step - loss: 1.0982 - accuracy: 0.3555 - val_loss: 1.0983 - val_accuracy: 0.3467\n",
            "Epoch 4/10\n",
            "5/5 [==============================] - 2s 475ms/step - loss: 1.0980 - accuracy: 0.3569 - val_loss: 1.0981 - val_accuracy: 0.3467\n",
            "Epoch 5/10\n",
            "5/5 [==============================] - 2s 472ms/step - loss: 1.0979 - accuracy: 0.3576 - val_loss: 1.0980 - val_accuracy: 0.3467\n",
            "Epoch 6/10\n",
            "5/5 [==============================] - 2s 477ms/step - loss: 1.0978 - accuracy: 0.3530 - val_loss: 1.0978 - val_accuracy: 0.3467\n",
            "Epoch 7/10\n",
            "5/5 [==============================] - 2s 473ms/step - loss: 1.0976 - accuracy: 0.3547 - val_loss: 1.0977 - val_accuracy: 0.3467\n",
            "Epoch 8/10\n",
            "5/5 [==============================] - 2s 477ms/step - loss: 1.0973 - accuracy: 0.3559 - val_loss: 1.0975 - val_accuracy: 0.3467\n",
            "Epoch 9/10\n",
            "5/5 [==============================] - 2s 475ms/step - loss: 1.0973 - accuracy: 0.3524 - val_loss: 1.0974 - val_accuracy: 0.3467\n",
            "Epoch 10/10\n",
            "5/5 [==============================] - 2s 473ms/step - loss: 1.0972 - accuracy: 0.3572 - val_loss: 1.0973 - val_accuracy: 0.3467\n",
            "103/103 [==============================] - 0s 4ms/step - loss: 1.0973 - accuracy: 0.3467\n",
            "0.08658674986089643 0.16153922462350798 0.002880049196999135 0.18881186987451326 0.0018360968075158413 2.234975157164857\n",
            "Epoch 1/10\n",
            "27/27 [==============================] - 5s 128ms/step - loss: 1.0948 - accuracy: 0.3678 - val_loss: 0.9591 - val_accuracy: 0.5707\n",
            "Epoch 2/10\n",
            "27/27 [==============================] - 3s 104ms/step - loss: 0.9989 - accuracy: 0.4850 - val_loss: 0.9076 - val_accuracy: 0.5480\n",
            "Epoch 3/10\n",
            "27/27 [==============================] - 3s 105ms/step - loss: 0.9452 - accuracy: 0.5192 - val_loss: 0.8578 - val_accuracy: 0.5759\n",
            "Epoch 4/10\n",
            "27/27 [==============================] - 3s 104ms/step - loss: 0.9136 - accuracy: 0.5431 - val_loss: 0.8693 - val_accuracy: 0.5811\n",
            "Epoch 5/10\n",
            "27/27 [==============================] - 3s 104ms/step - loss: 0.8959 - accuracy: 0.5650 - val_loss: 0.8344 - val_accuracy: 0.5932\n",
            "Epoch 6/10\n",
            "27/27 [==============================] - 3s 104ms/step - loss: 0.8745 - accuracy: 0.5720 - val_loss: 0.8506 - val_accuracy: 0.5768\n",
            "Epoch 7/10\n",
            "27/27 [==============================] - 3s 105ms/step - loss: 0.8818 - accuracy: 0.5633 - val_loss: 0.8228 - val_accuracy: 0.6041\n",
            "Epoch 8/10\n",
            "27/27 [==============================] - 3s 105ms/step - loss: 0.8726 - accuracy: 0.5705 - val_loss: 0.8376 - val_accuracy: 0.5932\n",
            "Epoch 9/10\n",
            "27/27 [==============================] - 3s 105ms/step - loss: 0.8506 - accuracy: 0.5969 - val_loss: 0.8136 - val_accuracy: 0.5968\n",
            "Epoch 10/10\n",
            "27/27 [==============================] - 3s 105ms/step - loss: 0.8418 - accuracy: 0.5937 - val_loss: 0.8101 - val_accuracy: 0.5978\n",
            "103/103 [==============================] - 0s 4ms/step - loss: 0.8101 - accuracy: 0.5978\n"
          ],
          "name": "stdout"
        },
        {
          "output_type": "stream",
          "text": [
            "WARNING:absl:Found untraced functions such as dense_18_layer_call_and_return_conditional_losses, dense_18_layer_call_fn, dense_18_layer_call_fn, dense_18_layer_call_and_return_conditional_losses, dense_18_layer_call_and_return_conditional_losses while saving (showing 5 of 5). These functions will not be directly callable after loading.\n"
          ],
          "name": "stderr"
        },
        {
          "output_type": "stream",
          "text": [
            "INFO:tensorflow:Assets written to: /content/drive/MyDrive/Biodata/Datas/Belgium/Models_class/model_cnn-3-0.598-0.81/assets\n"
          ],
          "name": "stdout"
        },
        {
          "output_type": "stream",
          "text": [
            "INFO:tensorflow:Assets written to: /content/drive/MyDrive/Biodata/Datas/Belgium/Models_class/model_cnn-3-0.598-0.81/assets\n"
          ],
          "name": "stderr"
        },
        {
          "output_type": "stream",
          "text": [
            "0.034742871640502763 0.07173066852331544 0.15198982935856045 0.051676796662134296 0.4649710603039885 2.0710000403070037\n",
            "Epoch 1/10\n",
            "27/27 [==============================] - 5s 128ms/step - loss: 1.1046 - accuracy: 0.3452 - val_loss: 0.9365 - val_accuracy: 0.5638\n",
            "Epoch 2/10\n",
            "27/27 [==============================] - 3s 106ms/step - loss: 0.9823 - accuracy: 0.4838 - val_loss: 0.8851 - val_accuracy: 0.5656\n",
            "Epoch 3/10\n",
            "27/27 [==============================] - 3s 108ms/step - loss: 0.9378 - accuracy: 0.5223 - val_loss: 0.8897 - val_accuracy: 0.5950\n",
            "Epoch 4/10\n",
            "27/27 [==============================] - 3s 105ms/step - loss: 0.9193 - accuracy: 0.5337 - val_loss: 0.8401 - val_accuracy: 0.5902\n",
            "Epoch 5/10\n",
            "27/27 [==============================] - 3s 106ms/step - loss: 0.8937 - accuracy: 0.5582 - val_loss: 0.8299 - val_accuracy: 0.5968\n",
            "Epoch 6/10\n",
            "27/27 [==============================] - 3s 105ms/step - loss: 0.8981 - accuracy: 0.5624 - val_loss: 0.8290 - val_accuracy: 0.5978\n",
            "Epoch 7/10\n",
            "27/27 [==============================] - 3s 105ms/step - loss: 0.8793 - accuracy: 0.5752 - val_loss: 0.8305 - val_accuracy: 0.5923\n",
            "Epoch 8/10\n",
            "27/27 [==============================] - 3s 104ms/step - loss: 0.8589 - accuracy: 0.5800 - val_loss: 0.8163 - val_accuracy: 0.5978\n",
            "Epoch 9/10\n",
            "27/27 [==============================] - 3s 105ms/step - loss: 0.8411 - accuracy: 0.5965 - val_loss: 0.8181 - val_accuracy: 0.5899\n",
            "Epoch 10/10\n",
            "27/27 [==============================] - 3s 104ms/step - loss: 0.8490 - accuracy: 0.5911 - val_loss: 0.8511 - val_accuracy: 0.5938\n",
            "103/103 [==============================] - 0s 4ms/step - loss: 0.8511 - accuracy: 0.5938\n"
          ],
          "name": "stdout"
        },
        {
          "output_type": "stream",
          "text": [
            "WARNING:absl:Found untraced functions such as dense_19_layer_call_and_return_conditional_losses, dense_19_layer_call_fn, dense_19_layer_call_fn, dense_19_layer_call_and_return_conditional_losses, dense_19_layer_call_and_return_conditional_losses while saving (showing 5 of 5). These functions will not be directly callable after loading.\n"
          ],
          "name": "stderr"
        },
        {
          "output_type": "stream",
          "text": [
            "INFO:tensorflow:Assets written to: /content/drive/MyDrive/Biodata/Datas/Belgium/Models_class/model_cnn-4-0.594-0.851/assets\n"
          ],
          "name": "stdout"
        },
        {
          "output_type": "stream",
          "text": [
            "INFO:tensorflow:Assets written to: /content/drive/MyDrive/Biodata/Datas/Belgium/Models_class/model_cnn-4-0.594-0.851/assets\n"
          ],
          "name": "stderr"
        },
        {
          "output_type": "stream",
          "text": [
            "0.017333626000375846 0.06362584486094212 0.19281106664134343 0.08393000915037672 2.8080805242737283 2.489247200769238\n",
            "Epoch 1/10\n",
            "27/27 [==============================] - 4s 120ms/step - loss: 1.1581 - accuracy: 0.3453 - val_loss: 1.0980 - val_accuracy: 0.3543\n",
            "Epoch 2/10\n",
            "27/27 [==============================] - 3s 104ms/step - loss: 1.0979 - accuracy: 0.3520 - val_loss: 1.0973 - val_accuracy: 0.3543\n",
            "Epoch 3/10\n",
            "27/27 [==============================] - 3s 103ms/step - loss: 1.0970 - accuracy: 0.3526 - val_loss: 1.0967 - val_accuracy: 0.3543\n",
            "Epoch 4/10\n",
            "27/27 [==============================] - 3s 101ms/step - loss: 1.0965 - accuracy: 0.3490 - val_loss: 1.0963 - val_accuracy: 0.3543\n",
            "Epoch 5/10\n",
            "27/27 [==============================] - 3s 103ms/step - loss: 1.0956 - accuracy: 0.3483 - val_loss: 1.0961 - val_accuracy: 0.3467\n",
            "Epoch 6/10\n",
            "27/27 [==============================] - 3s 102ms/step - loss: 1.0960 - accuracy: 0.3522 - val_loss: 1.0960 - val_accuracy: 0.3467\n",
            "Epoch 7/10\n",
            "27/27 [==============================] - 3s 103ms/step - loss: 1.0958 - accuracy: 0.3504 - val_loss: 1.0960 - val_accuracy: 0.3467\n",
            "Epoch 8/10\n",
            "27/27 [==============================] - 3s 102ms/step - loss: 1.0954 - accuracy: 0.3580 - val_loss: 1.0960 - val_accuracy: 0.3467\n",
            "Epoch 9/10\n",
            "27/27 [==============================] - 3s 104ms/step - loss: 1.0947 - accuracy: 0.3570 - val_loss: 1.0960 - val_accuracy: 0.3467\n",
            "Epoch 10/10\n",
            "27/27 [==============================] - 3s 103ms/step - loss: 1.0950 - accuracy: 0.3561 - val_loss: 1.0960 - val_accuracy: 0.3467\n",
            "103/103 [==============================] - 0s 4ms/step - loss: 1.0960 - accuracy: 0.3467\n",
            "0.18200010375251402 0.13645988085506297 0.06373943755303253 0.018323522764099456 1.5038073402446406 2.201895502862952\n",
            "Epoch 1/10\n",
            "27/27 [==============================] - 5s 125ms/step - loss: 1.0790 - accuracy: 0.3710 - val_loss: 0.9506 - val_accuracy: 0.4912\n",
            "Epoch 2/10\n",
            "27/27 [==============================] - 3s 105ms/step - loss: 0.9627 - accuracy: 0.4976 - val_loss: 0.9223 - val_accuracy: 0.5018\n",
            "Epoch 3/10\n",
            "27/27 [==============================] - 3s 105ms/step - loss: 0.9372 - accuracy: 0.5139 - val_loss: 0.9122 - val_accuracy: 0.5003\n",
            "Epoch 4/10\n",
            "27/27 [==============================] - 3s 104ms/step - loss: 0.9161 - accuracy: 0.5222 - val_loss: 0.9053 - val_accuracy: 0.4985\n",
            "Epoch 5/10\n",
            "27/27 [==============================] - 3s 104ms/step - loss: 0.9172 - accuracy: 0.5209 - val_loss: 0.8803 - val_accuracy: 0.5024\n",
            "Epoch 6/10\n",
            "27/27 [==============================] - 3s 104ms/step - loss: 0.9007 - accuracy: 0.5140 - val_loss: 0.8856 - val_accuracy: 0.4948\n",
            "Epoch 7/10\n",
            "27/27 [==============================] - 3s 105ms/step - loss: 0.8857 - accuracy: 0.5235 - val_loss: 0.8605 - val_accuracy: 0.5395\n",
            "Epoch 8/10\n",
            "27/27 [==============================] - 3s 105ms/step - loss: 0.8696 - accuracy: 0.5620 - val_loss: 0.8468 - val_accuracy: 0.5932\n",
            "Epoch 9/10\n",
            "27/27 [==============================] - 3s 104ms/step - loss: 0.8533 - accuracy: 0.5999 - val_loss: 0.8232 - val_accuracy: 0.5978\n",
            "Epoch 10/10\n",
            "27/27 [==============================] - 3s 104ms/step - loss: 0.8389 - accuracy: 0.6050 - val_loss: 0.8219 - val_accuracy: 0.5911\n",
            "103/103 [==============================] - 0s 4ms/step - loss: 0.8219 - accuracy: 0.5911\n"
          ],
          "name": "stdout"
        },
        {
          "output_type": "stream",
          "text": [
            "WARNING:absl:Found untraced functions such as dense_21_layer_call_and_return_conditional_losses, dense_21_layer_call_fn, dense_21_layer_call_fn, dense_21_layer_call_and_return_conditional_losses, dense_21_layer_call_and_return_conditional_losses while saving (showing 5 of 5). These functions will not be directly callable after loading.\n"
          ],
          "name": "stderr"
        },
        {
          "output_type": "stream",
          "text": [
            "INFO:tensorflow:Assets written to: /content/drive/MyDrive/Biodata/Datas/Belgium/Models_class/model_cnn-5-0.591-0.822/assets\n"
          ],
          "name": "stdout"
        },
        {
          "output_type": "stream",
          "text": [
            "INFO:tensorflow:Assets written to: /content/drive/MyDrive/Biodata/Datas/Belgium/Models_class/model_cnn-5-0.591-0.822/assets\n"
          ],
          "name": "stderr"
        },
        {
          "output_type": "stream",
          "text": [
            "0.1978452596537437 0.03664306123984158 0.008380252610973393 0.18775634494905258 2.6737401009626955 0.30065677319050665\n",
            "Epoch 1/10\n",
            "5/5 [==============================] - 5s 585ms/step - loss: 1.1082 - accuracy: 0.3392 - val_loss: 1.0686 - val_accuracy: 0.3543\n",
            "Epoch 2/10\n",
            "5/5 [==============================] - 2s 483ms/step - loss: 1.0931 - accuracy: 0.3699 - val_loss: 1.0979 - val_accuracy: 0.3777\n",
            "Epoch 3/10\n",
            "5/5 [==============================] - 2s 474ms/step - loss: 1.0851 - accuracy: 0.3808 - val_loss: 1.0212 - val_accuracy: 0.4590\n",
            "Epoch 4/10\n",
            "5/5 [==============================] - 2s 477ms/step - loss: 1.0370 - accuracy: 0.4317 - val_loss: 0.9770 - val_accuracy: 0.4800\n",
            "Epoch 5/10\n",
            "5/5 [==============================] - 2s 479ms/step - loss: 0.9946 - accuracy: 0.4571 - val_loss: 0.9544 - val_accuracy: 0.4915\n",
            "Epoch 6/10\n",
            "5/5 [==============================] - 2s 477ms/step - loss: 0.9844 - accuracy: 0.4575 - val_loss: 0.9451 - val_accuracy: 0.4954\n",
            "Epoch 7/10\n",
            "5/5 [==============================] - 2s 482ms/step - loss: 0.9711 - accuracy: 0.4635 - val_loss: 0.9324 - val_accuracy: 0.4957\n",
            "Epoch 8/10\n"
          ],
          "name": "stdout"
        },
        {
          "output_type": "error",
          "ename": "KeyboardInterrupt",
          "evalue": "ignored",
          "traceback": [
            "\u001b[0;31m---------------------------------------------------------------------------\u001b[0m",
            "\u001b[0;31mKeyboardInterrupt\u001b[0m                         Traceback (most recent call last)",
            "\u001b[0;32m<ipython-input-27-fa9d823bf343>\u001b[0m in \u001b[0;36m<module>\u001b[0;34m()\u001b[0m\n\u001b[0;32m----> 1\u001b[0;31m \u001b[0mxopt\u001b[0m\u001b[0;34m,\u001b[0m \u001b[0mfopt\u001b[0m \u001b[0;34m=\u001b[0m \u001b[0mpso\u001b[0m\u001b[0;34m(\u001b[0m\u001b[0mapple\u001b[0m\u001b[0;34m,\u001b[0m \u001b[0mlb\u001b[0m\u001b[0;34m,\u001b[0m \u001b[0mub\u001b[0m\u001b[0;34m,\u001b[0m \u001b[0mswarmsize\u001b[0m\u001b[0;34m=\u001b[0m\u001b[0;36m10\u001b[0m\u001b[0;34m,\u001b[0m \u001b[0momega\u001b[0m\u001b[0;34m=\u001b[0m\u001b[0;36m0.5\u001b[0m\u001b[0;34m,\u001b[0m \u001b[0mphip\u001b[0m\u001b[0;34m=\u001b[0m\u001b[0;36m0.5\u001b[0m\u001b[0;34m,\u001b[0m \u001b[0mphig\u001b[0m\u001b[0;34m=\u001b[0m\u001b[0;36m1.0\u001b[0m\u001b[0;34m,\u001b[0m \u001b[0mmaxiter\u001b[0m\u001b[0;34m=\u001b[0m\u001b[0;36m30\u001b[0m\u001b[0;34m,\u001b[0m \u001b[0mminstep\u001b[0m\u001b[0;34m=\u001b[0m\u001b[0;36m1\u001b[0m\u001b[0;34m)\u001b[0m\u001b[0;34m\u001b[0m\u001b[0;34m\u001b[0m\u001b[0m\n\u001b[0m",
            "\u001b[0;32m/usr/local/lib/python3.7/dist-packages/pyswarm/pso.py\u001b[0m in \u001b[0;36mpso\u001b[0;34m(func, lb, ub, ieqcons, f_ieqcons, args, kwargs, swarmsize, omega, phip, phig, maxiter, minstep, minfunc, debug)\u001b[0m\n\u001b[1;32m    109\u001b[0m \u001b[0;34m\u001b[0m\u001b[0m\n\u001b[1;32m    110\u001b[0m         \u001b[0;31m# Calculate the objective's value at the current particle's\u001b[0m\u001b[0;34m\u001b[0m\u001b[0;34m\u001b[0m\u001b[0;34m\u001b[0m\u001b[0m\n\u001b[0;32m--> 111\u001b[0;31m         \u001b[0mfp\u001b[0m\u001b[0;34m[\u001b[0m\u001b[0mi\u001b[0m\u001b[0;34m]\u001b[0m \u001b[0;34m=\u001b[0m \u001b[0mobj\u001b[0m\u001b[0;34m(\u001b[0m\u001b[0mp\u001b[0m\u001b[0;34m[\u001b[0m\u001b[0mi\u001b[0m\u001b[0;34m,\u001b[0m \u001b[0;34m:\u001b[0m\u001b[0;34m]\u001b[0m\u001b[0;34m)\u001b[0m\u001b[0;34m\u001b[0m\u001b[0;34m\u001b[0m\u001b[0m\n\u001b[0m\u001b[1;32m    112\u001b[0m \u001b[0;34m\u001b[0m\u001b[0m\n\u001b[1;32m    113\u001b[0m         \u001b[0;31m# At the start, there may not be any feasible starting point, so just\u001b[0m\u001b[0;34m\u001b[0m\u001b[0;34m\u001b[0m\u001b[0;34m\u001b[0m\u001b[0m\n",
            "\u001b[0;32m/usr/local/lib/python3.7/dist-packages/pyswarm/pso.py\u001b[0m in \u001b[0;36m<lambda>\u001b[0;34m(x)\u001b[0m\n\u001b[1;32m     72\u001b[0m \u001b[0;34m\u001b[0m\u001b[0m\n\u001b[1;32m     73\u001b[0m     \u001b[0;31m# Check for constraint function(s) #########################################\u001b[0m\u001b[0;34m\u001b[0m\u001b[0;34m\u001b[0m\u001b[0;34m\u001b[0m\u001b[0m\n\u001b[0;32m---> 74\u001b[0;31m     \u001b[0mobj\u001b[0m \u001b[0;34m=\u001b[0m \u001b[0;32mlambda\u001b[0m \u001b[0mx\u001b[0m\u001b[0;34m:\u001b[0m \u001b[0mfunc\u001b[0m\u001b[0;34m(\u001b[0m\u001b[0mx\u001b[0m\u001b[0;34m,\u001b[0m \u001b[0;34m*\u001b[0m\u001b[0margs\u001b[0m\u001b[0;34m,\u001b[0m \u001b[0;34m**\u001b[0m\u001b[0mkwargs\u001b[0m\u001b[0;34m)\u001b[0m\u001b[0;34m\u001b[0m\u001b[0;34m\u001b[0m\u001b[0m\n\u001b[0m\u001b[1;32m     75\u001b[0m     \u001b[0;32mif\u001b[0m \u001b[0mf_ieqcons\u001b[0m \u001b[0;32mis\u001b[0m \u001b[0;32mNone\u001b[0m\u001b[0;34m:\u001b[0m\u001b[0;34m\u001b[0m\u001b[0;34m\u001b[0m\u001b[0m\n\u001b[1;32m     76\u001b[0m         \u001b[0;32mif\u001b[0m \u001b[0;32mnot\u001b[0m \u001b[0mlen\u001b[0m\u001b[0;34m(\u001b[0m\u001b[0mieqcons\u001b[0m\u001b[0;34m)\u001b[0m\u001b[0;34m:\u001b[0m\u001b[0;34m\u001b[0m\u001b[0;34m\u001b[0m\u001b[0m\n",
            "\u001b[0;32m<ipython-input-26-99b6a4bb061e>\u001b[0m in \u001b[0;36mapple\u001b[0;34m(x)\u001b[0m\n\u001b[1;32m      3\u001b[0m   \u001b[0mmodel\u001b[0m \u001b[0;34m=\u001b[0m \u001b[0mcreate_model\u001b[0m\u001b[0;34m(\u001b[0m\u001b[0mx\u001b[0m\u001b[0;34m)\u001b[0m\u001b[0;34m\u001b[0m\u001b[0;34m\u001b[0m\u001b[0m\n\u001b[1;32m      4\u001b[0m   \u001b[0;32mif\u001b[0m \u001b[0;34m(\u001b[0m\u001b[0mx\u001b[0m\u001b[0;34m[\u001b[0m\u001b[0;36m5\u001b[0m\u001b[0;34m]\u001b[0m\u001b[0;34m<\u001b[0m\u001b[0;36m1\u001b[0m\u001b[0;34m)\u001b[0m\u001b[0;34m:\u001b[0m\u001b[0;34m\u001b[0m\u001b[0;34m\u001b[0m\u001b[0m\n\u001b[0;32m----> 5\u001b[0;31m     \u001b[0mmodel\u001b[0m\u001b[0;34m.\u001b[0m\u001b[0mfit\u001b[0m\u001b[0;34m(\u001b[0m\u001b[0mX_train_cnn\u001b[0m\u001b[0;34m,\u001b[0m \u001b[0my_train\u001b[0m\u001b[0;34m,\u001b[0m \u001b[0mepochs\u001b[0m\u001b[0;34m=\u001b[0m\u001b[0;36m10\u001b[0m\u001b[0;34m,\u001b[0m \u001b[0mbatch_size\u001b[0m\u001b[0;34m=\u001b[0m\u001b[0;36m3000\u001b[0m\u001b[0;34m,\u001b[0m \u001b[0mverbose\u001b[0m\u001b[0;34m=\u001b[0m\u001b[0;36m1\u001b[0m\u001b[0;34m,\u001b[0m\u001b[0mvalidation_data\u001b[0m\u001b[0;34m=\u001b[0m\u001b[0;34m(\u001b[0m\u001b[0mX_test_cnn\u001b[0m\u001b[0;34m,\u001b[0m \u001b[0my_test\u001b[0m\u001b[0;34m)\u001b[0m\u001b[0;34m,\u001b[0m\u001b[0mcallbacks\u001b[0m\u001b[0;34m=\u001b[0m\u001b[0;34m[\u001b[0m\u001b[0mreduce_lr\u001b[0m\u001b[0;34m]\u001b[0m\u001b[0;34m)\u001b[0m\u001b[0;34m\u001b[0m\u001b[0;34m\u001b[0m\u001b[0m\n\u001b[0m\u001b[1;32m      6\u001b[0m     \u001b[0mloss\u001b[0m\u001b[0;34m,\u001b[0m \u001b[0macc\u001b[0m \u001b[0;34m=\u001b[0m \u001b[0mmodel\u001b[0m\u001b[0;34m.\u001b[0m\u001b[0mevaluate\u001b[0m\u001b[0;34m(\u001b[0m\u001b[0mX_test_cnn\u001b[0m\u001b[0;34m,\u001b[0m \u001b[0my_test\u001b[0m\u001b[0;34m,\u001b[0m \u001b[0mverbose\u001b[0m\u001b[0;34m=\u001b[0m\u001b[0;36m1\u001b[0m\u001b[0;34m)\u001b[0m\u001b[0;34m\u001b[0m\u001b[0;34m\u001b[0m\u001b[0m\n\u001b[1;32m      7\u001b[0m   \u001b[0;32melif\u001b[0m \u001b[0;34m(\u001b[0m\u001b[0mx\u001b[0m\u001b[0;34m[\u001b[0m\u001b[0;36m5\u001b[0m\u001b[0;34m]\u001b[0m\u001b[0;34m<\u001b[0m\u001b[0;36m2\u001b[0m\u001b[0;34m)\u001b[0m\u001b[0;34m:\u001b[0m\u001b[0;34m\u001b[0m\u001b[0;34m\u001b[0m\u001b[0m\n",
            "\u001b[0;32m/usr/local/lib/python3.7/dist-packages/keras/engine/training.py\u001b[0m in \u001b[0;36mfit\u001b[0;34m(self, x, y, batch_size, epochs, verbose, callbacks, validation_split, validation_data, shuffle, class_weight, sample_weight, initial_epoch, steps_per_epoch, validation_steps, validation_batch_size, validation_freq, max_queue_size, workers, use_multiprocessing)\u001b[0m\n\u001b[1;32m   1156\u001b[0m                 _r=1):\n\u001b[1;32m   1157\u001b[0m               \u001b[0mcallbacks\u001b[0m\u001b[0;34m.\u001b[0m\u001b[0mon_train_batch_begin\u001b[0m\u001b[0;34m(\u001b[0m\u001b[0mstep\u001b[0m\u001b[0;34m)\u001b[0m\u001b[0;34m\u001b[0m\u001b[0;34m\u001b[0m\u001b[0m\n\u001b[0;32m-> 1158\u001b[0;31m               \u001b[0mtmp_logs\u001b[0m \u001b[0;34m=\u001b[0m \u001b[0mself\u001b[0m\u001b[0;34m.\u001b[0m\u001b[0mtrain_function\u001b[0m\u001b[0;34m(\u001b[0m\u001b[0miterator\u001b[0m\u001b[0;34m)\u001b[0m\u001b[0;34m\u001b[0m\u001b[0;34m\u001b[0m\u001b[0m\n\u001b[0m\u001b[1;32m   1159\u001b[0m               \u001b[0;32mif\u001b[0m \u001b[0mdata_handler\u001b[0m\u001b[0;34m.\u001b[0m\u001b[0mshould_sync\u001b[0m\u001b[0;34m:\u001b[0m\u001b[0;34m\u001b[0m\u001b[0;34m\u001b[0m\u001b[0m\n\u001b[1;32m   1160\u001b[0m                 \u001b[0mcontext\u001b[0m\u001b[0;34m.\u001b[0m\u001b[0masync_wait\u001b[0m\u001b[0;34m(\u001b[0m\u001b[0;34m)\u001b[0m\u001b[0;34m\u001b[0m\u001b[0;34m\u001b[0m\u001b[0m\n",
            "\u001b[0;32m/usr/local/lib/python3.7/dist-packages/tensorflow/python/eager/def_function.py\u001b[0m in \u001b[0;36m__call__\u001b[0;34m(self, *args, **kwds)\u001b[0m\n\u001b[1;32m    887\u001b[0m \u001b[0;34m\u001b[0m\u001b[0m\n\u001b[1;32m    888\u001b[0m       \u001b[0;32mwith\u001b[0m \u001b[0mOptionalXlaContext\u001b[0m\u001b[0;34m(\u001b[0m\u001b[0mself\u001b[0m\u001b[0;34m.\u001b[0m\u001b[0m_jit_compile\u001b[0m\u001b[0;34m)\u001b[0m\u001b[0;34m:\u001b[0m\u001b[0;34m\u001b[0m\u001b[0;34m\u001b[0m\u001b[0m\n\u001b[0;32m--> 889\u001b[0;31m         \u001b[0mresult\u001b[0m \u001b[0;34m=\u001b[0m \u001b[0mself\u001b[0m\u001b[0;34m.\u001b[0m\u001b[0m_call\u001b[0m\u001b[0;34m(\u001b[0m\u001b[0;34m*\u001b[0m\u001b[0margs\u001b[0m\u001b[0;34m,\u001b[0m \u001b[0;34m**\u001b[0m\u001b[0mkwds\u001b[0m\u001b[0;34m)\u001b[0m\u001b[0;34m\u001b[0m\u001b[0;34m\u001b[0m\u001b[0m\n\u001b[0m\u001b[1;32m    890\u001b[0m \u001b[0;34m\u001b[0m\u001b[0m\n\u001b[1;32m    891\u001b[0m       \u001b[0mnew_tracing_count\u001b[0m \u001b[0;34m=\u001b[0m \u001b[0mself\u001b[0m\u001b[0;34m.\u001b[0m\u001b[0mexperimental_get_tracing_count\u001b[0m\u001b[0;34m(\u001b[0m\u001b[0;34m)\u001b[0m\u001b[0;34m\u001b[0m\u001b[0;34m\u001b[0m\u001b[0m\n",
            "\u001b[0;32m/usr/local/lib/python3.7/dist-packages/tensorflow/python/eager/def_function.py\u001b[0m in \u001b[0;36m_call\u001b[0;34m(self, *args, **kwds)\u001b[0m\n\u001b[1;32m    915\u001b[0m       \u001b[0;31m# In this case we have created variables on the first call, so we run the\u001b[0m\u001b[0;34m\u001b[0m\u001b[0;34m\u001b[0m\u001b[0;34m\u001b[0m\u001b[0m\n\u001b[1;32m    916\u001b[0m       \u001b[0;31m# defunned version which is guaranteed to never create variables.\u001b[0m\u001b[0;34m\u001b[0m\u001b[0;34m\u001b[0m\u001b[0;34m\u001b[0m\u001b[0m\n\u001b[0;32m--> 917\u001b[0;31m       \u001b[0;32mreturn\u001b[0m \u001b[0mself\u001b[0m\u001b[0;34m.\u001b[0m\u001b[0m_stateless_fn\u001b[0m\u001b[0;34m(\u001b[0m\u001b[0;34m*\u001b[0m\u001b[0margs\u001b[0m\u001b[0;34m,\u001b[0m \u001b[0;34m**\u001b[0m\u001b[0mkwds\u001b[0m\u001b[0;34m)\u001b[0m  \u001b[0;31m# pylint: disable=not-callable\u001b[0m\u001b[0;34m\u001b[0m\u001b[0;34m\u001b[0m\u001b[0m\n\u001b[0m\u001b[1;32m    918\u001b[0m     \u001b[0;32melif\u001b[0m \u001b[0mself\u001b[0m\u001b[0;34m.\u001b[0m\u001b[0m_stateful_fn\u001b[0m \u001b[0;32mis\u001b[0m \u001b[0;32mnot\u001b[0m \u001b[0;32mNone\u001b[0m\u001b[0;34m:\u001b[0m\u001b[0;34m\u001b[0m\u001b[0;34m\u001b[0m\u001b[0m\n\u001b[1;32m    919\u001b[0m       \u001b[0;31m# Release the lock early so that multiple threads can perform the call\u001b[0m\u001b[0;34m\u001b[0m\u001b[0;34m\u001b[0m\u001b[0;34m\u001b[0m\u001b[0m\n",
            "\u001b[0;32m/usr/local/lib/python3.7/dist-packages/tensorflow/python/eager/function.py\u001b[0m in \u001b[0;36m__call__\u001b[0;34m(self, *args, **kwargs)\u001b[0m\n\u001b[1;32m   3022\u001b[0m        filtered_flat_args) = self._maybe_define_function(args, kwargs)\n\u001b[1;32m   3023\u001b[0m     return graph_function._call_flat(\n\u001b[0;32m-> 3024\u001b[0;31m         filtered_flat_args, captured_inputs=graph_function.captured_inputs)  # pylint: disable=protected-access\n\u001b[0m\u001b[1;32m   3025\u001b[0m \u001b[0;34m\u001b[0m\u001b[0m\n\u001b[1;32m   3026\u001b[0m   \u001b[0;34m@\u001b[0m\u001b[0mproperty\u001b[0m\u001b[0;34m\u001b[0m\u001b[0;34m\u001b[0m\u001b[0m\n",
            "\u001b[0;32m/usr/local/lib/python3.7/dist-packages/tensorflow/python/eager/function.py\u001b[0m in \u001b[0;36m_call_flat\u001b[0;34m(self, args, captured_inputs, cancellation_manager)\u001b[0m\n\u001b[1;32m   1959\u001b[0m       \u001b[0;31m# No tape is watching; skip to running the function.\u001b[0m\u001b[0;34m\u001b[0m\u001b[0;34m\u001b[0m\u001b[0;34m\u001b[0m\u001b[0m\n\u001b[1;32m   1960\u001b[0m       return self._build_call_outputs(self._inference_function.call(\n\u001b[0;32m-> 1961\u001b[0;31m           ctx, args, cancellation_manager=cancellation_manager))\n\u001b[0m\u001b[1;32m   1962\u001b[0m     forward_backward = self._select_forward_and_backward_functions(\n\u001b[1;32m   1963\u001b[0m         \u001b[0margs\u001b[0m\u001b[0;34m,\u001b[0m\u001b[0;34m\u001b[0m\u001b[0;34m\u001b[0m\u001b[0m\n",
            "\u001b[0;32m/usr/local/lib/python3.7/dist-packages/tensorflow/python/eager/function.py\u001b[0m in \u001b[0;36mcall\u001b[0;34m(self, ctx, args, cancellation_manager)\u001b[0m\n\u001b[1;32m    594\u001b[0m               \u001b[0minputs\u001b[0m\u001b[0;34m=\u001b[0m\u001b[0margs\u001b[0m\u001b[0;34m,\u001b[0m\u001b[0;34m\u001b[0m\u001b[0;34m\u001b[0m\u001b[0m\n\u001b[1;32m    595\u001b[0m               \u001b[0mattrs\u001b[0m\u001b[0;34m=\u001b[0m\u001b[0mattrs\u001b[0m\u001b[0;34m,\u001b[0m\u001b[0;34m\u001b[0m\u001b[0;34m\u001b[0m\u001b[0m\n\u001b[0;32m--> 596\u001b[0;31m               ctx=ctx)\n\u001b[0m\u001b[1;32m    597\u001b[0m         \u001b[0;32melse\u001b[0m\u001b[0;34m:\u001b[0m\u001b[0;34m\u001b[0m\u001b[0;34m\u001b[0m\u001b[0m\n\u001b[1;32m    598\u001b[0m           outputs = execute.execute_with_cancellation(\n",
            "\u001b[0;32m/usr/local/lib/python3.7/dist-packages/tensorflow/python/eager/execute.py\u001b[0m in \u001b[0;36mquick_execute\u001b[0;34m(op_name, num_outputs, inputs, attrs, ctx, name)\u001b[0m\n\u001b[1;32m     58\u001b[0m     \u001b[0mctx\u001b[0m\u001b[0;34m.\u001b[0m\u001b[0mensure_initialized\u001b[0m\u001b[0;34m(\u001b[0m\u001b[0;34m)\u001b[0m\u001b[0;34m\u001b[0m\u001b[0;34m\u001b[0m\u001b[0m\n\u001b[1;32m     59\u001b[0m     tensors = pywrap_tfe.TFE_Py_Execute(ctx._handle, device_name, op_name,\n\u001b[0;32m---> 60\u001b[0;31m                                         inputs, attrs, num_outputs)\n\u001b[0m\u001b[1;32m     61\u001b[0m   \u001b[0;32mexcept\u001b[0m \u001b[0mcore\u001b[0m\u001b[0;34m.\u001b[0m\u001b[0m_NotOkStatusException\u001b[0m \u001b[0;32mas\u001b[0m \u001b[0me\u001b[0m\u001b[0;34m:\u001b[0m\u001b[0;34m\u001b[0m\u001b[0;34m\u001b[0m\u001b[0m\n\u001b[1;32m     62\u001b[0m     \u001b[0;32mif\u001b[0m \u001b[0mname\u001b[0m \u001b[0;32mis\u001b[0m \u001b[0;32mnot\u001b[0m \u001b[0;32mNone\u001b[0m\u001b[0;34m:\u001b[0m\u001b[0;34m\u001b[0m\u001b[0;34m\u001b[0m\u001b[0m\n",
            "\u001b[0;31mKeyboardInterrupt\u001b[0m: "
          ]
        }
      ]
    }
  ]
}